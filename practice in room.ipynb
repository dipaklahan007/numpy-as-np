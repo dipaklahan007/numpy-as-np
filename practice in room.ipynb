{
 "cells": [
  {
   "cell_type": "code",
   "execution_count": 1,
   "id": "e3700d38-bf15-4403-91a6-d4224fad112c",
   "metadata": {},
   "outputs": [
    {
     "name": "stdout",
     "output_type": "stream",
     "text": [
      "8.166666666666666\n"
     ]
    }
   ],
   "source": [
    "x=7*(3+8-4)/6\n",
    "print(x)"
   ]
  },
  {
   "cell_type": "code",
   "execution_count": 2,
   "id": "d0a496e4-b009-429f-8bcb-d9358c426575",
   "metadata": {},
   "outputs": [
    {
     "data": {
      "text/plain": [
       "6"
      ]
     },
     "execution_count": 2,
     "metadata": {},
     "output_type": "execute_result"
    }
   ],
   "source": [
    "5 and 6"
   ]
  },
  {
   "cell_type": "code",
   "execution_count": 3,
   "id": "01110242-5575-402b-af25-5253e5a258c3",
   "metadata": {},
   "outputs": [
    {
     "data": {
      "text/plain": [
       "['sunday', 'Monday', 'Tuesday', 'Wednesday', 'Thursday', 'Friday', 'Saturday']"
      ]
     },
     "execution_count": 3,
     "metadata": {},
     "output_type": "execute_result"
    }
   ],
   "source": [
    "days_of_week=['sunday','Monday','Tuesday','Wednesday','Thursday','Friday','Saturday']\n",
    "days_of_week\n",
    "              "
   ]
  },
  {
   "cell_type": "code",
   "execution_count": 4,
   "id": "56bf0129-0a19-4c98-9a4a-0488def24bab",
   "metadata": {},
   "outputs": [
    {
     "data": {
      "text/plain": [
       "7"
      ]
     },
     "execution_count": 4,
     "metadata": {},
     "output_type": "execute_result"
    }
   ],
   "source": [
    "len(days_of_week)"
   ]
  },
  {
   "cell_type": "code",
   "execution_count": 5,
   "id": "427160bb-3225-45c1-82a4-cd7927347498",
   "metadata": {},
   "outputs": [
    {
     "name": "stdout",
     "output_type": "stream",
     "text": [
      "sunday\n"
     ]
    }
   ],
   "source": [
    " print(days_of_week[0])"
   ]
  },
  {
   "cell_type": "code",
   "execution_count": 6,
   "id": "469407fd-cb48-4ea0-a5a8-279f0a04ddb0",
   "metadata": {},
   "outputs": [
    {
     "name": "stdout",
     "output_type": "stream",
     "text": [
      "Thursday\n"
     ]
    }
   ],
   "source": [
    "print(days_of_week[4])"
   ]
  },
  {
   "cell_type": "code",
   "execution_count": 7,
   "id": "f9c90667-4e21-41dd-987e-b4744477c999",
   "metadata": {},
   "outputs": [
    {
     "name": "stdout",
     "output_type": "stream",
     "text": [
      "[1, 3, 0, 'true', 'so beautiful']\n"
     ]
    }
   ],
   "source": [
    "my_list=[1,3,0,'true','so beautiful']\n",
    "print(my_list)"
   ]
  },
  {
   "cell_type": "code",
   "execution_count": 8,
   "id": "51443b92-1691-4e12-80df-bf5e170d981b",
   "metadata": {},
   "outputs": [
    {
     "name": "stdout",
     "output_type": "stream",
     "text": [
      "you can vote\n"
     ]
    }
   ],
   "source": [
    "age = 25\n",
    "if age > 18:\n",
    "    print(\"you can vote\")\n",
    "elif age < 18:\n",
    "    print(\"you can't vote\")\n",
    "elif age == 18:\n",
    "    print(\"get citizenship to vote\")\n",
    "else:\n",
    "   print(\"invalid age\")"
   ]
  },
  {
   "cell_type": "code",
   "execution_count": 9,
   "id": "e80d8591-2154-424b-a6af-4c7c75b58152",
   "metadata": {},
   "outputs": [
    {
     "name": "stdout",
     "output_type": "stream",
     "text": [
      "You can vote\n"
     ]
    }
   ],
   "source": [
    "age = 25\n",
    "if age > 18:\n",
    "    print(\"You can vote\")\n",
    "elif age < 18:\n",
    "    print(\"You can't vote\")\n",
    "elif age == 18:\n",
    "    print(\"Get citizenship to vote\")\n",
    "else:\n",
    "    print(\"Invalid age\")"
   ]
  },
  {
   "cell_type": "code",
   "execution_count": 10,
   "id": "3d58ee46-ca82-4f4f-8d9c-5bd44e2ed71a",
   "metadata": {},
   "outputs": [
    {
     "name": "stdout",
     "output_type": "stream",
     "text": [
      "X is greater than 30.\n"
     ]
    }
   ],
   "source": [
    "X = 35\n",
    "if X > 10 and X > 30:\n",
    "    print(\"X is greater than 30.\")\n",
    "else:\n",
    "    print(\"X is not greater than 30.\")"
   ]
  },
  {
   "cell_type": "markdown",
   "id": "22e2ffec-591b-4dd4-9ef8-d76ed282e69a",
   "metadata": {},
   "source": [
    "loop example"
   ]
  },
  {
   "cell_type": "code",
   "execution_count": 11,
   "id": "1290a69f-5bdc-44d6-bf2c-2ac8d10fc801",
   "metadata": {},
   "outputs": [
    {
     "name": "stdout",
     "output_type": "stream",
     "text": [
      "g\n",
      "e\n",
      "e\n",
      "k\n",
      "s\n"
     ]
    }
   ],
   "source": [
    "s=\"geeks\"\n",
    "for i in s:\n",
    "    print(i)"
   ]
  },
  {
   "cell_type": "markdown",
   "id": "783d0e91-7ad9-4698-b00f-43707191578e",
   "metadata": {},
   "source": [
    "python Dictionary eg"
   ]
  },
  {
   "cell_type": "code",
   "execution_count": 12,
   "id": "e67d0b44-b863-47ff-a83f-0cb73c82da87",
   "metadata": {},
   "outputs": [
    {
     "data": {
      "text/plain": [
       "{'chicago': 3.5, 'New york': 7, 'LA': 6}"
      ]
     },
     "execution_count": 12,
     "metadata": {},
     "output_type": "execute_result"
    }
   ],
   "source": [
    "city_pop={\n",
    "    \"chicago\":3.5,\n",
    "    \"New york\":7,\n",
    "    \"LA\":6\n",
    "}\n",
    "city_pop"
   ]
  },
  {
   "cell_type": "code",
   "execution_count": 13,
   "id": "476e5549-308f-4501-abfe-288b067b5fe5",
   "metadata": {},
   "outputs": [
    {
     "ename": "IndentationError",
     "evalue": "unexpected indent (1165567199.py, line 2)",
     "output_type": "error",
     "traceback": [
      "\u001b[1;36m  Cell \u001b[1;32mIn[13], line 2\u001b[1;36m\u001b[0m\n\u001b[1;33m    \"chicago\":3.5,\u001b[0m\n\u001b[1;37m    ^\u001b[0m\n\u001b[1;31mIndentationError\u001b[0m\u001b[1;31m:\u001b[0m unexpected indent\n"
     ]
    }
   ],
   "source": [
    "city_pop={chicago}\n",
    "    \"chicago\":3.5,\n",
    "    \"New york\":7,\n",
    "    \"LA\":6\n",
    "}\n",
    "city_pop"
   ]
  },
  {
   "cell_type": "code",
   "execution_count": null,
   "id": "3a51ef4e-4828-455e-b1c5-c37f0058d79f",
   "metadata": {},
   "outputs": [],
   "source": [
    "city_pop.keys()"
   ]
  },
  {
   "cell_type": "code",
   "execution_count": null,
   "id": "743f5b23-8025-464c-b6dd-02fa46baf543",
   "metadata": {},
   "outputs": [],
   "source": [
    "city_pop.values()"
   ]
  },
  {
   "cell_type": "code",
   "execution_count": null,
   "id": "b6fdb6cd-fa4e-41d7-aaf8-152a37be449f",
   "metadata": {},
   "outputs": [],
   "source": [
    "\"chicago\"in city_pop"
   ]
  },
  {
   "cell_type": "code",
   "execution_count": null,
   "id": "778b60d7-1066-4055-badc-cbaf7a97965a",
   "metadata": {},
   "outputs": [],
   "source": [
    "\"San Franscisco\"in city_pop"
   ]
  },
  {
   "cell_type": "code",
   "execution_count": null,
   "id": "03716f31-aaa2-414b-948d-0f1a737b3c2c",
   "metadata": {},
   "outputs": [],
   "source": [
    "city_pop[\"LA\"]=20\n",
    "city_pop"
   ]
  },
  {
   "cell_type": "code",
   "execution_count": null,
   "id": "9347707b-91b1-4679-a213-e3bb16e5416e",
   "metadata": {},
   "outputs": [],
   "source": [
    "city_pop.update({\"chicago\":30})\n",
    "city_pop"
   ]
  },
  {
   "cell_type": "markdown",
   "id": "073f4321-9e6a-4816-a84b-e0f7ddf0b61d",
   "metadata": {},
   "source": [
    "add item dictionary eg"
   ]
  },
  {
   "cell_type": "markdown",
   "id": "ad3fbf43-0bb3-4791-9bf5-a6847686e5e2",
   "metadata": {},
   "source": [
    "city_pop[\"kathmandu\"]=2.5\n",
    "city_pop"
   ]
  },
  {
   "cell_type": "markdown",
   "id": "b53408a6-d89f-489e-8521-7a9f090c51d0",
   "metadata": {},
   "source": [
    "Remove item in dictionary"
   ]
  },
  {
   "cell_type": "code",
   "execution_count": null,
   "id": "ba8ddf9d-0db4-4a20-b953-486f1004c5cf",
   "metadata": {},
   "outputs": [],
   "source": [
    "city_pop.pop(\"LA\")\n",
    "city_pop"
   ]
  },
  {
   "cell_type": "markdown",
   "id": "ad7c1e1b-0433-4a19-87bc-84c985517e8c",
   "metadata": {},
   "source": [
    "object-oriented concept"
   ]
  },
  {
   "cell_type": "markdown",
   "id": "665eb5dc-175e-4edb-8102-4a36c18ffbec",
   "metadata": {},
   "source": [
    "everything in python is an object.\n",
    "Class and Object:\n",
    "Class:class is like blue print for building object\n",
    "Object:The instance of class called object"
   ]
  },
  {
   "cell_type": "code",
   "execution_count": null,
   "id": "3f192f92-2205-4957-b7df-1de9bd522acf",
   "metadata": {},
   "outputs": [],
   "source": [
    "class student:\n",
    "    school=\"school of Data science\""
   ]
  },
  {
   "cell_type": "code",
   "execution_count": null,
   "id": "c33ae392-afa3-4f06-a3e8-78d848ac97fa",
   "metadata": {},
   "outputs": [],
   "source": [
    "student1=student()\n",
    "student2=student()\n",
    "print(student1.school)\n",
    "print(student2.school)"
   ]
  },
  {
   "cell_type": "markdown",
   "id": "af959f28-d874-4048-b803-6201bb7d46c9",
   "metadata": {},
   "source": [
    "constructor in python:constructor is same as function"
   ]
  },
  {
   "cell_type": "markdown",
   "id": "2ea8bfc0-ff0e-4325-8256-928d01e826ec",
   "metadata": {},
   "source": [
    "def_init_(self,name,level):\n",
    "self.name=name\n",
    "self.level=level these are the stntax of constructor "
   ]
  },
  {
   "cell_type": "code",
   "execution_count": null,
   "id": "b7795d8d-7e95-4920-8fe8-2daf302ba7ad",
   "metadata": {},
   "outputs": [],
   "source": []
  },
  {
   "cell_type": "code",
   "execution_count": null,
   "id": "60dfc630-8f7e-4cd2-a5f8-ae499411afe6",
   "metadata": {},
   "outputs": [],
   "source": [
    "class Student:\n",
    "    def __init__(self, name, level):\n",
    "        self.name = name\n",
    "        self.level = level\n",
    "\n",
    "\n",
    "student1 = Student(\"kattle\", 1)\n",
    "student2 = Student(\"dipak\", 3)\n",
    "\n",
    "print(student1.name)  \n",
    "print(student1.level) \n",
    "print(student2.name)  \n",
    "print(student2.level)"
   ]
  },
  {
   "cell_type": "code",
   "execution_count": null,
   "id": "6f65aafa-e7f8-4bd5-a6f7-efe3d9d6413a",
   "metadata": {},
   "outputs": [],
   "source": [
    "pip install numpy"
   ]
  },
  {
   "cell_type": "code",
   "execution_count": null,
   "id": "2a64e9c5-22a6-411d-ac96-6938b47fc58d",
   "metadata": {},
   "outputs": [],
   "source": [
    "pip install pandas\n"
   ]
  },
  {
   "cell_type": "code",
   "execution_count": null,
   "id": "093f830f-de24-4386-97c9-8fe76dfa3742",
   "metadata": {},
   "outputs": [],
   "source": [
    "pip instal matplotlib"
   ]
  },
  {
   "cell_type": "markdown",
   "id": "6190ddac-b0b7-4d8b-bf78-876350eb1162",
   "metadata": {},
   "source": [
    "#Numpy library"
   ]
  },
  {
   "cell_type": "code",
   "execution_count": 1,
   "id": "7d9f7b63-5524-4c7d-8ecd-bce5832ebe1e",
   "metadata": {},
   "outputs": [
    {
     "name": "stdout",
     "output_type": "stream",
     "text": [
      "Defaulting to user installation because normal site-packages is not writeableNote: you may need to restart the kernel to use updated packages.\n",
      "\n",
      "Requirement already satisfied: numpy in c:\\programdata\\anaconda3\\lib\\site-packages (1.26.4)\n"
     ]
    }
   ],
   "source": [
    "pip install numpy\n"
   ]
  },
  {
   "cell_type": "code",
   "execution_count": 2,
   "id": "b836ea2f-7b97-4468-b28d-a2ad61e860bd",
   "metadata": {},
   "outputs": [
    {
     "data": {
      "text/plain": [
       "<module 'numpy.version' from 'C:\\\\ProgramData\\\\anaconda3\\\\Lib\\\\site-packages\\\\numpy\\\\version.py'>"
      ]
     },
     "execution_count": 2,
     "metadata": {},
     "output_type": "execute_result"
    }
   ],
   "source": [
    "import numpy\n",
    "numpy.version"
   ]
  },
  {
   "cell_type": "code",
   "execution_count": 3,
   "id": "9c795d77-55ff-4b56-a384-1679ba48e488",
   "metadata": {},
   "outputs": [
    {
     "data": {
      "text/plain": [
       "<module 'numpy.version' from 'C:\\\\ProgramData\\\\anaconda3\\\\Lib\\\\site-packages\\\\numpy\\\\version.py'>"
      ]
     },
     "execution_count": 3,
     "metadata": {},
     "output_type": "execute_result"
    }
   ],
   "source": [
    "import numpy as np\n",
    "numpy.version"
   ]
  },
  {
   "cell_type": "code",
   "execution_count": 4,
   "id": "86e0e031-0e46-4d37-808d-6c85670dea24",
   "metadata": {},
   "outputs": [
    {
     "name": "stdout",
     "output_type": "stream",
     "text": [
      "[[ 2  4  8 16]]\n",
      "<class 'numpy.ndarray'>\n"
     ]
    },
    {
     "data": {
      "text/plain": [
       "4"
      ]
     },
     "execution_count": 4,
     "metadata": {},
     "output_type": "execute_result"
    }
   ],
   "source": [
    "my_arr=np.array([[2,4,8,16]],np.int32)\n",
    "print(my_arr)\n",
    "print(type(my_arr))\n",
    "my_arr[0,1]"
   ]
  },
  {
   "cell_type": "code",
   "execution_count": 5,
   "id": "62e150bc-182d-4c71-a886-256ff09907da",
   "metadata": {},
   "outputs": [
    {
     "data": {
      "text/plain": [
       "(1, 4)"
      ]
     },
     "execution_count": 5,
     "metadata": {},
     "output_type": "execute_result"
    }
   ],
   "source": [
    "my_arr.shape"
   ]
  },
  {
   "cell_type": "code",
   "execution_count": 6,
   "id": "8d69859c-65d7-4475-97c4-6c90a104612f",
   "metadata": {},
   "outputs": [
    {
     "data": {
      "text/plain": [
       "dtype('int32')"
      ]
     },
     "execution_count": 6,
     "metadata": {},
     "output_type": "execute_result"
    }
   ],
   "source": [
    "my_arr.dtype"
   ]
  },
  {
   "cell_type": "markdown",
   "id": "d8fcd0a6-1fca-4db3-9ea8-423cd09139a6",
   "metadata": {},
   "source": [
    "##Arrays creation :Conversion from pther python structure"
   ]
  },
  {
   "cell_type": "code",
   "execution_count": 7,
   "id": "cc6f6b8b-86ab-4c21-9a29-4afa80b6e86b",
   "metadata": {},
   "outputs": [
    {
     "name": "stdout",
     "output_type": "stream",
     "text": [
      "[[1 2 3]\n",
      " [5 8 5]\n",
      " [0 3 1]]\n"
     ]
    }
   ],
   "source": [
    "listarray=np.array([[1,2,3],[5,8,5],[0,3,1]])\n",
    "print(listarray)"
   ]
  },
  {
   "cell_type": "code",
   "execution_count": 8,
   "id": "f5087a7a-8460-4ed4-a0ce-bb0c46184a7e",
   "metadata": {},
   "outputs": [
    {
     "data": {
      "text/plain": [
       "dtype('int32')"
      ]
     },
     "execution_count": 8,
     "metadata": {},
     "output_type": "execute_result"
    }
   ],
   "source": [
    "listarray.dtype"
   ]
  },
  {
   "cell_type": "code",
   "execution_count": 9,
   "id": "01fe64a2-c848-47e3-a90a-a47d36ed962e",
   "metadata": {},
   "outputs": [
    {
     "data": {
      "text/plain": [
       "(3, 3)"
      ]
     },
     "execution_count": 9,
     "metadata": {},
     "output_type": "execute_result"
    }
   ],
   "source": [
    "listarray.shape"
   ]
  },
  {
   "cell_type": "code",
   "execution_count": 10,
   "id": "d37ce4e6-2531-4e05-b781-8b74c8b28175",
   "metadata": {},
   "outputs": [
    {
     "data": {
      "text/plain": [
       "9"
      ]
     },
     "execution_count": 10,
     "metadata": {},
     "output_type": "execute_result"
    }
   ],
   "source": [
    "listarray.size"
   ]
  },
  {
   "cell_type": "code",
   "execution_count": 11,
   "id": "8b3d898e-a518-4e7e-a4a8-414d7380ca41",
   "metadata": {},
   "outputs": [
    {
     "name": "stdout",
     "output_type": "stream",
     "text": [
      "[[0. 0. 0.]\n",
      " [0. 0. 0.]]\n"
     ]
    }
   ],
   "source": [
    "zeros=np.zeros([2,3])\n",
    "print(zeros)"
   ]
  },
  {
   "cell_type": "code",
   "execution_count": 12,
   "id": "39d95196-a51b-48b4-80a7-00d392d1cfbc",
   "metadata": {},
   "outputs": [
    {
     "name": "stdout",
     "output_type": "stream",
     "text": [
      "[ 0  1  2  3  4  5  6  7  8  9 10 11 12 13 14 15 16 17 18 19]\n"
     ]
    }
   ],
   "source": [
    "rng=np.arange(20)\n",
    "print(rng)"
   ]
  },
  {
   "cell_type": "code",
   "execution_count": 13,
   "id": "874642b4-6252-4be6-a6f1-4184bb420b64",
   "metadata": {},
   "outputs": [
    {
     "name": "stdout",
     "output_type": "stream",
     "text": [
      "[1.         1.36363636 1.72727273 2.09090909 2.45454545 2.81818182\n",
      " 3.18181818 3.54545455 3.90909091 4.27272727 4.63636364 5.        ]\n"
     ]
    }
   ],
   "source": [
    "lspace=np.linspace(1,5,12)\n",
    "print(lspace)"
   ]
  },
  {
   "cell_type": "code",
   "execution_count": 14,
   "id": "488e15ab-a8e5-426c-ab05-0449050a7540",
   "metadata": {},
   "outputs": [
    {
     "name": "stdout",
     "output_type": "stream",
     "text": [
      "[[1. 0. 0. ... 0. 0. 0.]\n",
      " [0. 1. 0. ... 0. 0. 0.]\n",
      " [0. 0. 1. ... 0. 0. 0.]\n",
      " ...\n",
      " [0. 0. 0. ... 1. 0. 0.]\n",
      " [0. 0. 0. ... 0. 1. 0.]\n",
      " [0. 0. 0. ... 0. 0. 1.]]\n"
     ]
    }
   ],
   "source": [
    "ide=np.identity(40)\n",
    "print(ide)"
   ]
  },
  {
   "cell_type": "code",
   "execution_count": 15,
   "id": "f2d46fb1-e543-4301-937c-f0e931ae072e",
   "metadata": {},
   "outputs": [
    {
     "name": "stdout",
     "output_type": "stream",
     "text": [
      "Defaulting to user installation because normal site-packages is not writeable\n",
      "Requirement already satisfied: pandas in c:\\programdata\\anaconda3\\lib\\site-packages (2.2.2)\n",
      "Requirement already satisfied: numpy>=1.26.0 in c:\\programdata\\anaconda3\\lib\\site-packages (from pandas) (1.26.4)\n",
      "Requirement already satisfied: python-dateutil>=2.8.2 in c:\\programdata\\anaconda3\\lib\\site-packages (from pandas) (2.9.0.post0)\n",
      "Requirement already satisfied: pytz>=2020.1 in c:\\programdata\\anaconda3\\lib\\site-packages (from pandas) (2024.1)\n",
      "Requirement already satisfied: tzdata>=2022.7 in c:\\programdata\\anaconda3\\lib\\site-packages (from pandas) (2023.3)\n",
      "Requirement already satisfied: six>=1.5 in c:\\programdata\\anaconda3\\lib\\site-packages (from python-dateutil>=2.8.2->pandas) (1.16.0)\n",
      "Note: you may need to restart the kernel to use updated packages.\n"
     ]
    }
   ],
   "source": [
    "pip install pandas"
   ]
  },
  {
   "cell_type": "code",
   "execution_count": 16,
   "id": "db2dd5e8-ac30-4ab7-a855-c92e88835bfb",
   "metadata": {},
   "outputs": [],
   "source": [
    "import pandas"
   ]
  },
  {
   "cell_type": "code",
   "execution_count": 17,
   "id": "b8cada4a-6110-46dd-b724-f1a8cf3962ea",
   "metadata": {},
   "outputs": [
    {
     "name": "stdout",
     "output_type": "stream",
     "text": [
      "0    1\n",
      "1    2\n",
      "2    3\n",
      "3    4\n",
      "4    5\n",
      "dtype: int64\n"
     ]
    }
   ],
   "source": [
    "import pandas as pd\n",
    "data = pd.Series([1, 2, 3, 4, 5])\n",
    "print(data)\n"
   ]
  },
  {
   "cell_type": "code",
   "execution_count": 18,
   "id": "5524e66c-4f82-4ca0-ac74-6f7c86ab9da3",
   "metadata": {},
   "outputs": [
    {
     "name": "stdout",
     "output_type": "stream",
     "text": [
      "0    0.25\n",
      "1    0.50\n",
      "2    0.75\n",
      "3    1.00\n",
      "dtype: float64\n"
     ]
    }
   ],
   "source": [
    "import pandas as pd\n",
    "data = pd.Series([0.25,0.5,0.75,1.0])\n",
    "print(data)"
   ]
  },
  {
   "cell_type": "code",
   "execution_count": 19,
   "id": "5c392238-45b7-423c-91fc-d81f8565dd8b",
   "metadata": {},
   "outputs": [
    {
     "data": {
      "text/plain": [
       "pandas.core.series.Series"
      ]
     },
     "execution_count": 19,
     "metadata": {},
     "output_type": "execute_result"
    }
   ],
   "source": [
    "type(data)"
   ]
  },
  {
   "cell_type": "code",
   "execution_count": 20,
   "id": "69b23597-6ec9-414a-bce8-d222af0f86f6",
   "metadata": {},
   "outputs": [
    {
     "data": {
      "text/plain": [
       "array([0.25, 0.5 , 0.75, 1.  ])"
      ]
     },
     "execution_count": 20,
     "metadata": {},
     "output_type": "execute_result"
    }
   ],
   "source": [
    "data.values"
   ]
  },
  {
   "cell_type": "code",
   "execution_count": 21,
   "id": "78c7e978-3707-485e-9c6b-b7cd252e7272",
   "metadata": {},
   "outputs": [
    {
     "data": {
      "text/plain": [
       "RangeIndex(start=0, stop=4, step=1)"
      ]
     },
     "execution_count": 21,
     "metadata": {},
     "output_type": "execute_result"
    }
   ],
   "source": [
    "data.index"
   ]
  },
  {
   "cell_type": "code",
   "execution_count": 22,
   "id": "3519b8d3-2c14-4a43-ab20-9d06a6bb4fcf",
   "metadata": {},
   "outputs": [
    {
     "data": {
      "text/plain": [
       "1    0.50\n",
       "2    0.75\n",
       "dtype: float64"
      ]
     },
     "execution_count": 22,
     "metadata": {},
     "output_type": "execute_result"
    }
   ],
   "source": [
    "data[1:3]"
   ]
  },
  {
   "cell_type": "code",
   "execution_count": 23,
   "id": "fa090933-020e-4bc7-b21a-e86092d8b77e",
   "metadata": {},
   "outputs": [
    {
     "name": "stdout",
     "output_type": "stream",
     "text": [
      "a    0.25\n",
      "b    0.50\n",
      "c    0.75\n",
      "d    1.00\n",
      "dtype: float64\n"
     ]
    }
   ],
   "source": [
    "import pandas as pd\n",
    "data=pd.Series([0.25,0.50,0.75,1.0],index=['a','b','c','d'])\n",
    "print(data)"
   ]
  },
  {
   "cell_type": "code",
   "execution_count": 24,
   "id": "bb0e264f-fd9e-41e4-9ef9-b8cf16b815f1",
   "metadata": {},
   "outputs": [
    {
     "data": {
      "text/plain": [
       "0.75"
      ]
     },
     "execution_count": 24,
     "metadata": {},
     "output_type": "execute_result"
    }
   ],
   "source": [
    "data['c']\n"
   ]
  },
  {
   "cell_type": "code",
   "execution_count": 25,
   "id": "aec78547-d809-4253-ba73-33c17f0b1258",
   "metadata": {},
   "outputs": [
    {
     "name": "stdout",
     "output_type": "stream",
     "text": [
      "California    38\n",
      "Texas         26\n",
      "New York      20\n",
      "Florida       19\n",
      "Illinois      13\n",
      "dtype: int64\n"
     ]
    }
   ],
   "source": [
    "population_dict ={'California':38,\n",
    "                  'Texas':26,\n",
    "                  'New York':20,\n",
    "                  'Florida':19,\n",
    "                  'Illinois':13\n",
    "                 }\n",
    "population=pd.Series(population_dict)\n",
    "print(population)"
   ]
  },
  {
   "cell_type": "code",
   "execution_count": null,
   "id": "64096d14-3814-4754-9345-c9f22c971b8c",
   "metadata": {},
   "outputs": [],
   "source": [
    "pd.Series ({2:'a',5:'b',3:'c'},index=[3,2])"
   ]
  },
  {
   "cell_type": "code",
   "execution_count": 26,
   "id": "f2ae5183-e474-49d9-85ba-9201b2a3209a",
   "metadata": {},
   "outputs": [
    {
     "name": "stdout",
     "output_type": "stream",
     "text": [
      "California    423\n",
      "Texas         695\n",
      "Newyork       141\n",
      "Florida       170\n",
      "Illinois      150\n",
      "dtype: int64\n"
     ]
    }
   ],
   "source": [
    "area_dict={'California':423,\n",
    "           'Texas':695,\n",
    "           'Newyork':141,\n",
    "           'Florida':170,\n",
    "           'Illinois':150\n",
    "          }\n",
    "area=pd.Series(area_dict)\n",
    "print(area)"
   ]
  },
  {
   "cell_type": "markdown",
   "id": "e5da0f55-3531-4a51-b472-a9507c1bea5b",
   "metadata": {},
   "source": [
    "NaN Concept in Pandas"
   ]
  },
  {
   "cell_type": "code",
   "execution_count": 27,
   "id": "5d3a0c98-82d0-415d-af21-b95e64459f35",
   "metadata": {},
   "outputs": [
    {
     "data": {
      "text/html": [
       "<div>\n",
       "<style scoped>\n",
       "    .dataframe tbody tr th:only-of-type {\n",
       "        vertical-align: middle;\n",
       "    }\n",
       "\n",
       "    .dataframe tbody tr th {\n",
       "        vertical-align: top;\n",
       "    }\n",
       "\n",
       "    .dataframe thead th {\n",
       "        text-align: right;\n",
       "    }\n",
       "</style>\n",
       "<table border=\"1\" class=\"dataframe\">\n",
       "  <thead>\n",
       "    <tr style=\"text-align: right;\">\n",
       "      <th></th>\n",
       "      <th>a</th>\n",
       "      <th>b</th>\n",
       "      <th>c</th>\n",
       "    </tr>\n",
       "  </thead>\n",
       "  <tbody>\n",
       "    <tr>\n",
       "      <th>0</th>\n",
       "      <td>2.0</td>\n",
       "      <td>5</td>\n",
       "      <td>NaN</td>\n",
       "    </tr>\n",
       "    <tr>\n",
       "      <th>1</th>\n",
       "      <td>NaN</td>\n",
       "      <td>7</td>\n",
       "      <td>1.0</td>\n",
       "    </tr>\n",
       "  </tbody>\n",
       "</table>\n",
       "</div>"
      ],
      "text/plain": [
       "     a  b    c\n",
       "0  2.0  5  NaN\n",
       "1  NaN  7  1.0"
      ]
     },
     "execution_count": 27,
     "metadata": {},
     "output_type": "execute_result"
    }
   ],
   "source": [
    "pd.DataFrame([{'a':2,'b':5},{'b':7,'c':1}])\n"
   ]
  },
  {
   "cell_type": "code",
   "execution_count": 28,
   "id": "e5d0ff97-d172-4bef-b4ed-f138f2fd4205",
   "metadata": {},
   "outputs": [
    {
     "data": {
      "text/plain": [
       "True"
      ]
     },
     "execution_count": 28,
     "metadata": {},
     "output_type": "execute_result"
    }
   ],
   "source": [
    "'d' in data"
   ]
  },
  {
   "cell_type": "code",
   "execution_count": 29,
   "id": "26a1cc66-1d70-417b-bff4-a1475934c988",
   "metadata": {},
   "outputs": [
    {
     "data": {
      "text/plain": [
       "<bound method Series.keys of a    0.25\n",
       "b    0.50\n",
       "c    0.75\n",
       "d    1.00\n",
       "dtype: float64>"
      ]
     },
     "execution_count": 29,
     "metadata": {},
     "output_type": "execute_result"
    }
   ],
   "source": [
    "data.keys"
   ]
  },
  {
   "cell_type": "code",
   "execution_count": 30,
   "id": "59da2e88-4b43-4d62-88d7-292f0177455a",
   "metadata": {},
   "outputs": [
    {
     "data": {
      "text/plain": [
       "[('a', 0.25), ('b', 0.5), ('c', 0.75), ('d', 1.0)]"
      ]
     },
     "execution_count": 30,
     "metadata": {},
     "output_type": "execute_result"
    }
   ],
   "source": [
    "list(data.items())"
   ]
  },
  {
   "cell_type": "code",
   "execution_count": 34,
   "id": "89145016-8607-4f11-860d-9e8cea8bf20e",
   "metadata": {},
   "outputs": [
    {
     "ename": "TypeError",
     "evalue": "cannot do slice indexing on Index with these indexers [1] of type int",
     "output_type": "error",
     "traceback": [
      "\u001b[1;31m---------------------------------------------------------------------------\u001b[0m",
      "\u001b[1;31mTypeError\u001b[0m                                 Traceback (most recent call last)",
      "Cell \u001b[1;32mIn[34], line 1\u001b[0m\n\u001b[1;32m----> 1\u001b[0m data\u001b[38;5;241m.\u001b[39mloc[\u001b[38;5;241m1\u001b[39m:\u001b[38;5;241m3\u001b[39m]\n",
      "File \u001b[1;32mC:\\ProgramData\\anaconda3\\Lib\\site-packages\\pandas\\core\\indexing.py:1191\u001b[0m, in \u001b[0;36m_LocationIndexer.__getitem__\u001b[1;34m(self, key)\u001b[0m\n\u001b[0;32m   1189\u001b[0m maybe_callable \u001b[38;5;241m=\u001b[39m com\u001b[38;5;241m.\u001b[39mapply_if_callable(key, \u001b[38;5;28mself\u001b[39m\u001b[38;5;241m.\u001b[39mobj)\n\u001b[0;32m   1190\u001b[0m maybe_callable \u001b[38;5;241m=\u001b[39m \u001b[38;5;28mself\u001b[39m\u001b[38;5;241m.\u001b[39m_check_deprecated_callable_usage(key, maybe_callable)\n\u001b[1;32m-> 1191\u001b[0m \u001b[38;5;28;01mreturn\u001b[39;00m \u001b[38;5;28mself\u001b[39m\u001b[38;5;241m.\u001b[39m_getitem_axis(maybe_callable, axis\u001b[38;5;241m=\u001b[39maxis)\n",
      "File \u001b[1;32mC:\\ProgramData\\anaconda3\\Lib\\site-packages\\pandas\\core\\indexing.py:1411\u001b[0m, in \u001b[0;36m_LocIndexer._getitem_axis\u001b[1;34m(self, key, axis)\u001b[0m\n\u001b[0;32m   1409\u001b[0m \u001b[38;5;28;01mif\u001b[39;00m \u001b[38;5;28misinstance\u001b[39m(key, \u001b[38;5;28mslice\u001b[39m):\n\u001b[0;32m   1410\u001b[0m     \u001b[38;5;28mself\u001b[39m\u001b[38;5;241m.\u001b[39m_validate_key(key, axis)\n\u001b[1;32m-> 1411\u001b[0m     \u001b[38;5;28;01mreturn\u001b[39;00m \u001b[38;5;28mself\u001b[39m\u001b[38;5;241m.\u001b[39m_get_slice_axis(key, axis\u001b[38;5;241m=\u001b[39maxis)\n\u001b[0;32m   1412\u001b[0m \u001b[38;5;28;01melif\u001b[39;00m com\u001b[38;5;241m.\u001b[39mis_bool_indexer(key):\n\u001b[0;32m   1413\u001b[0m     \u001b[38;5;28;01mreturn\u001b[39;00m \u001b[38;5;28mself\u001b[39m\u001b[38;5;241m.\u001b[39m_getbool_axis(key, axis\u001b[38;5;241m=\u001b[39maxis)\n",
      "File \u001b[1;32mC:\\ProgramData\\anaconda3\\Lib\\site-packages\\pandas\\core\\indexing.py:1443\u001b[0m, in \u001b[0;36m_LocIndexer._get_slice_axis\u001b[1;34m(self, slice_obj, axis)\u001b[0m\n\u001b[0;32m   1440\u001b[0m     \u001b[38;5;28;01mreturn\u001b[39;00m obj\u001b[38;5;241m.\u001b[39mcopy(deep\u001b[38;5;241m=\u001b[39m\u001b[38;5;28;01mFalse\u001b[39;00m)\n\u001b[0;32m   1442\u001b[0m labels \u001b[38;5;241m=\u001b[39m obj\u001b[38;5;241m.\u001b[39m_get_axis(axis)\n\u001b[1;32m-> 1443\u001b[0m indexer \u001b[38;5;241m=\u001b[39m labels\u001b[38;5;241m.\u001b[39mslice_indexer(slice_obj\u001b[38;5;241m.\u001b[39mstart, slice_obj\u001b[38;5;241m.\u001b[39mstop, slice_obj\u001b[38;5;241m.\u001b[39mstep)\n\u001b[0;32m   1445\u001b[0m \u001b[38;5;28;01mif\u001b[39;00m \u001b[38;5;28misinstance\u001b[39m(indexer, \u001b[38;5;28mslice\u001b[39m):\n\u001b[0;32m   1446\u001b[0m     \u001b[38;5;28;01mreturn\u001b[39;00m \u001b[38;5;28mself\u001b[39m\u001b[38;5;241m.\u001b[39mobj\u001b[38;5;241m.\u001b[39m_slice(indexer, axis\u001b[38;5;241m=\u001b[39maxis)\n",
      "File \u001b[1;32mC:\\ProgramData\\anaconda3\\Lib\\site-packages\\pandas\\core\\indexes\\base.py:6662\u001b[0m, in \u001b[0;36mIndex.slice_indexer\u001b[1;34m(self, start, end, step)\u001b[0m\n\u001b[0;32m   6618\u001b[0m \u001b[38;5;28;01mdef\u001b[39;00m \u001b[38;5;21mslice_indexer\u001b[39m(\n\u001b[0;32m   6619\u001b[0m     \u001b[38;5;28mself\u001b[39m,\n\u001b[0;32m   6620\u001b[0m     start: Hashable \u001b[38;5;241m|\u001b[39m \u001b[38;5;28;01mNone\u001b[39;00m \u001b[38;5;241m=\u001b[39m \u001b[38;5;28;01mNone\u001b[39;00m,\n\u001b[0;32m   6621\u001b[0m     end: Hashable \u001b[38;5;241m|\u001b[39m \u001b[38;5;28;01mNone\u001b[39;00m \u001b[38;5;241m=\u001b[39m \u001b[38;5;28;01mNone\u001b[39;00m,\n\u001b[0;32m   6622\u001b[0m     step: \u001b[38;5;28mint\u001b[39m \u001b[38;5;241m|\u001b[39m \u001b[38;5;28;01mNone\u001b[39;00m \u001b[38;5;241m=\u001b[39m \u001b[38;5;28;01mNone\u001b[39;00m,\n\u001b[0;32m   6623\u001b[0m ) \u001b[38;5;241m-\u001b[39m\u001b[38;5;241m>\u001b[39m \u001b[38;5;28mslice\u001b[39m:\n\u001b[0;32m   6624\u001b[0m \u001b[38;5;250m    \u001b[39m\u001b[38;5;124;03m\"\"\"\u001b[39;00m\n\u001b[0;32m   6625\u001b[0m \u001b[38;5;124;03m    Compute the slice indexer for input labels and step.\u001b[39;00m\n\u001b[0;32m   6626\u001b[0m \n\u001b[1;32m   (...)\u001b[0m\n\u001b[0;32m   6660\u001b[0m \u001b[38;5;124;03m    slice(1, 3, None)\u001b[39;00m\n\u001b[0;32m   6661\u001b[0m \u001b[38;5;124;03m    \"\"\"\u001b[39;00m\n\u001b[1;32m-> 6662\u001b[0m     start_slice, end_slice \u001b[38;5;241m=\u001b[39m \u001b[38;5;28mself\u001b[39m\u001b[38;5;241m.\u001b[39mslice_locs(start, end, step\u001b[38;5;241m=\u001b[39mstep)\n\u001b[0;32m   6664\u001b[0m     \u001b[38;5;66;03m# return a slice\u001b[39;00m\n\u001b[0;32m   6665\u001b[0m     \u001b[38;5;28;01mif\u001b[39;00m \u001b[38;5;129;01mnot\u001b[39;00m is_scalar(start_slice):\n",
      "File \u001b[1;32mC:\\ProgramData\\anaconda3\\Lib\\site-packages\\pandas\\core\\indexes\\base.py:6879\u001b[0m, in \u001b[0;36mIndex.slice_locs\u001b[1;34m(self, start, end, step)\u001b[0m\n\u001b[0;32m   6877\u001b[0m start_slice \u001b[38;5;241m=\u001b[39m \u001b[38;5;28;01mNone\u001b[39;00m\n\u001b[0;32m   6878\u001b[0m \u001b[38;5;28;01mif\u001b[39;00m start \u001b[38;5;129;01mis\u001b[39;00m \u001b[38;5;129;01mnot\u001b[39;00m \u001b[38;5;28;01mNone\u001b[39;00m:\n\u001b[1;32m-> 6879\u001b[0m     start_slice \u001b[38;5;241m=\u001b[39m \u001b[38;5;28mself\u001b[39m\u001b[38;5;241m.\u001b[39mget_slice_bound(start, \u001b[38;5;124m\"\u001b[39m\u001b[38;5;124mleft\u001b[39m\u001b[38;5;124m\"\u001b[39m)\n\u001b[0;32m   6880\u001b[0m \u001b[38;5;28;01mif\u001b[39;00m start_slice \u001b[38;5;129;01mis\u001b[39;00m \u001b[38;5;28;01mNone\u001b[39;00m:\n\u001b[0;32m   6881\u001b[0m     start_slice \u001b[38;5;241m=\u001b[39m \u001b[38;5;241m0\u001b[39m\n",
      "File \u001b[1;32mC:\\ProgramData\\anaconda3\\Lib\\site-packages\\pandas\\core\\indexes\\base.py:6794\u001b[0m, in \u001b[0;36mIndex.get_slice_bound\u001b[1;34m(self, label, side)\u001b[0m\n\u001b[0;32m   6790\u001b[0m original_label \u001b[38;5;241m=\u001b[39m label\n\u001b[0;32m   6792\u001b[0m \u001b[38;5;66;03m# For datetime indices label may be a string that has to be converted\u001b[39;00m\n\u001b[0;32m   6793\u001b[0m \u001b[38;5;66;03m# to datetime boundary according to its resolution.\u001b[39;00m\n\u001b[1;32m-> 6794\u001b[0m label \u001b[38;5;241m=\u001b[39m \u001b[38;5;28mself\u001b[39m\u001b[38;5;241m.\u001b[39m_maybe_cast_slice_bound(label, side)\n\u001b[0;32m   6796\u001b[0m \u001b[38;5;66;03m# we need to look up the label\u001b[39;00m\n\u001b[0;32m   6797\u001b[0m \u001b[38;5;28;01mtry\u001b[39;00m:\n",
      "File \u001b[1;32mC:\\ProgramData\\anaconda3\\Lib\\site-packages\\pandas\\core\\indexes\\base.py:6727\u001b[0m, in \u001b[0;36mIndex._maybe_cast_slice_bound\u001b[1;34m(self, label, side)\u001b[0m\n\u001b[0;32m   6725\u001b[0m \u001b[38;5;66;03m# reject them, if index does not contain label\u001b[39;00m\n\u001b[0;32m   6726\u001b[0m \u001b[38;5;28;01mif\u001b[39;00m (is_float(label) \u001b[38;5;129;01mor\u001b[39;00m is_integer(label)) \u001b[38;5;129;01mand\u001b[39;00m label \u001b[38;5;129;01mnot\u001b[39;00m \u001b[38;5;129;01min\u001b[39;00m \u001b[38;5;28mself\u001b[39m:\n\u001b[1;32m-> 6727\u001b[0m     \u001b[38;5;28mself\u001b[39m\u001b[38;5;241m.\u001b[39m_raise_invalid_indexer(\u001b[38;5;124m\"\u001b[39m\u001b[38;5;124mslice\u001b[39m\u001b[38;5;124m\"\u001b[39m, label)\n\u001b[0;32m   6729\u001b[0m \u001b[38;5;28;01mreturn\u001b[39;00m label\n",
      "File \u001b[1;32mC:\\ProgramData\\anaconda3\\Lib\\site-packages\\pandas\\core\\indexes\\base.py:4301\u001b[0m, in \u001b[0;36mIndex._raise_invalid_indexer\u001b[1;34m(self, form, key, reraise)\u001b[0m\n\u001b[0;32m   4299\u001b[0m \u001b[38;5;28;01mif\u001b[39;00m reraise \u001b[38;5;129;01mis\u001b[39;00m \u001b[38;5;129;01mnot\u001b[39;00m lib\u001b[38;5;241m.\u001b[39mno_default:\n\u001b[0;32m   4300\u001b[0m     \u001b[38;5;28;01mraise\u001b[39;00m \u001b[38;5;167;01mTypeError\u001b[39;00m(msg) \u001b[38;5;28;01mfrom\u001b[39;00m \u001b[38;5;21;01mreraise\u001b[39;00m\n\u001b[1;32m-> 4301\u001b[0m \u001b[38;5;28;01mraise\u001b[39;00m \u001b[38;5;167;01mTypeError\u001b[39;00m(msg)\n",
      "\u001b[1;31mTypeError\u001b[0m: cannot do slice indexing on Index with these indexers [1] of type int"
     ]
    }
   ],
   "source": [
    "data.loc[1:3]"
   ]
  },
  {
   "cell_type": "code",
   "execution_count": 33,
   "id": "9a507908-31e2-4b67-b4b0-1cfa153d66a0",
   "metadata": {},
   "outputs": [
    {
     "data": {
      "text/plain": [
       "<bound method Series.keys of a    0.25\n",
       "b    0.50\n",
       "c    0.75\n",
       "d    1.00\n",
       "dtype: float64>"
      ]
     },
     "execution_count": 33,
     "metadata": {},
     "output_type": "execute_result"
    }
   ],
   "source": [
    "data.keys"
   ]
  },
  {
   "cell_type": "code",
   "execution_count": 35,
   "id": "bc98413d-ffc2-47e3-ae05-0475c973ad7e",
   "metadata": {},
   "outputs": [
    {
     "data": {
      "text/plain": [
       "True"
      ]
     },
     "execution_count": 35,
     "metadata": {},
     "output_type": "execute_result"
    }
   ],
   "source": [
    "'d' in data"
   ]
  },
  {
   "cell_type": "code",
   "execution_count": 36,
   "id": "351db392-2709-4344-822f-b875e7fbbf95",
   "metadata": {},
   "outputs": [
    {
     "name": "stdout",
     "output_type": "stream",
     "text": [
      "            population   area\n",
      "California        38.0  423.0\n",
      "Florida           19.0  170.0\n",
      "Illinois          13.0  150.0\n",
      "New York          20.0    NaN\n",
      "Newyork            NaN  141.0\n",
      "Texas             26.0  695.0\n"
     ]
    }
   ],
   "source": [
    "states=pd.DataFrame({'population':population,\n",
    "                     'area':area})\n",
    "print(states)"
   ]
  },
  {
   "cell_type": "code",
   "execution_count": 39,
   "id": "1889dd12-ce24-4dfe-8201-8b7db823513e",
   "metadata": {},
   "outputs": [
    {
     "data": {
      "text/plain": [
       "38"
      ]
     },
     "execution_count": 39,
     "metadata": {},
     "output_type": "execute_result"
    }
   ],
   "source": [
    "population['California']"
   ]
  },
  {
   "cell_type": "code",
   "execution_count": 40,
   "id": "78912edd-b563-4a9e-8171-7080fa3d9864",
   "metadata": {},
   "outputs": [
    {
     "data": {
      "text/plain": [
       "pandas.core.frame.DataFrame"
      ]
     },
     "execution_count": 40,
     "metadata": {},
     "output_type": "execute_result"
    }
   ],
   "source": [
    "type(states)"
   ]
  },
  {
   "cell_type": "code",
   "execution_count": 41,
   "id": "f91cd5ed-b983-41e8-a8de-ea4bc041843d",
   "metadata": {},
   "outputs": [
    {
     "data": {
      "text/plain": [
       "Index(['California', 'Florida', 'Illinois', 'New York', 'Newyork', 'Texas'], dtype='object')"
      ]
     },
     "execution_count": 41,
     "metadata": {},
     "output_type": "execute_result"
    }
   ],
   "source": [
    "states.index"
   ]
  },
  {
   "cell_type": "code",
   "execution_count": 43,
   "id": "1ab68b24-acf2-466c-8690-608d7a23bc56",
   "metadata": {},
   "outputs": [
    {
     "data": {
      "text/plain": [
       "Index(['population', 'area'], dtype='object')"
      ]
     },
     "execution_count": 43,
     "metadata": {},
     "output_type": "execute_result"
    }
   ],
   "source": [
    "states.columns"
   ]
  },
  {
   "cell_type": "code",
   "execution_count": 46,
   "id": "b358a4e2-9a54-4e55-b926-78ccb4e5a596",
   "metadata": {},
   "outputs": [
    {
     "data": {
      "text/plain": [
       "California    423.0\n",
       "Florida       170.0\n",
       "Illinois      150.0\n",
       "New York        NaN\n",
       "Newyork       141.0\n",
       "Texas         695.0\n",
       "Name: area, dtype: float64"
      ]
     },
     "execution_count": 46,
     "metadata": {},
     "output_type": "execute_result"
    }
   ],
   "source": [
    "states['area']"
   ]
  },
  {
   "cell_type": "code",
   "execution_count": 47,
   "id": "96554936-ef4c-4aae-a8b9-313849beffdb",
   "metadata": {},
   "outputs": [
    {
     "data": {
      "text/plain": [
       "California    38.0\n",
       "Florida       19.0\n",
       "Illinois      13.0\n",
       "New York      20.0\n",
       "Newyork        NaN\n",
       "Texas         26.0\n",
       "Name: population, dtype: float64"
      ]
     },
     "execution_count": 47,
     "metadata": {},
     "output_type": "execute_result"
    }
   ],
   "source": [
    "states['population']"
   ]
  },
  {
   "cell_type": "code",
   "execution_count": 48,
   "id": "1f8b1162-6a71-4ebd-a18e-b0da025793e3",
   "metadata": {},
   "outputs": [
    {
     "name": "stdout",
     "output_type": "stream",
     "text": [
      "Nepal     20000000\n",
      "China    250000000\n",
      "India    300000000\n",
      "dtype: int64\n"
     ]
    }
   ],
   "source": [
    "population_dict={'Nepal':20000000,\n",
    "                 'China':250000000,\n",
    "                 'India':300000000}\n",
    "population=pd.Series(population_dict)\n",
    "print(population)"
   ]
  },
  {
   "cell_type": "code",
   "execution_count": 16,
   "id": "39e062c8-f2ce-48cb-8030-52de74dd6c47",
   "metadata": {},
   "outputs": [
    {
     "name": "stdout",
     "output_type": "stream",
     "text": [
      "Nepal     12500\n",
      "China     35500\n",
      "India    550000\n",
      "dtype: int64\n"
     ]
    }
   ],
   "source": [
    "area_dict={'Nepal':12500,\n",
    "           'China':35500,\n",
    "           'India':550000}\n",
    "area=pd.Series(area_dict)\n",
    "print(area)"
   ]
  },
  {
   "cell_type": "code",
   "execution_count": 7,
   "id": "6940b063-ade8-4718-b28b-997717d0864e",
   "metadata": {},
   "outputs": [
    {
     "ename": "NameError",
     "evalue": "name 'population' is not defined",
     "output_type": "error",
     "traceback": [
      "\u001b[1;31m---------------------------------------------------------------------------\u001b[0m",
      "\u001b[1;31mNameError\u001b[0m                                 Traceback (most recent call last)",
      "Cell \u001b[1;32mIn[7], line 2\u001b[0m\n\u001b[0;32m      1\u001b[0m \u001b[38;5;28;01mimport\u001b[39;00m \u001b[38;5;21;01mpandas\u001b[39;00m \u001b[38;5;28;01mas\u001b[39;00m \u001b[38;5;21;01mpd\u001b[39;00m\n\u001b[1;32m----> 2\u001b[0m country\u001b[38;5;241m=\u001b[39mpd\u001b[38;5;241m.\u001b[39mDataFrame({\u001b[38;5;124m'\u001b[39m\u001b[38;5;124mpopulation\u001b[39m\u001b[38;5;124m'\u001b[39m:population,\n\u001b[0;32m      3\u001b[0m                       \u001b[38;5;124m'\u001b[39m\u001b[38;5;124marea\u001b[39m\u001b[38;5;124m'\u001b[39m:area})\n\u001b[0;32m      4\u001b[0m \u001b[38;5;28mprint\u001b[39m(country)\n",
      "\u001b[1;31mNameError\u001b[0m: name 'population' is not defined"
     ]
    }
   ],
   "source": [
    "import pandas as pd\n",
    "country=pd.DataFrame({'population':population,\n",
    "                      'area':area})\n",
    "print(country)"
   ]
  },
  {
   "attachments": {},
   "cell_type": "markdown",
   "id": "d654f18e-6d11-4b00-9004-e675dbf1686c",
   "metadata": {},
   "source": []
  },
  {
   "cell_type": "code",
   "execution_count": 2,
   "id": "c4d81f60-8e3a-4b22-b64a-8b18102f4acf",
   "metadata": {},
   "outputs": [
    {
     "ename": "NameError",
     "evalue": "name 'states' is not defined",
     "output_type": "error",
     "traceback": [
      "\u001b[1;31m---------------------------------------------------------------------------\u001b[0m",
      "\u001b[1;31mNameError\u001b[0m                                 Traceback (most recent call last)",
      "Cell \u001b[1;32mIn[2], line 1\u001b[0m\n\u001b[1;32m----> 1\u001b[0m states[\u001b[38;5;124m'\u001b[39m\u001b[38;5;124mdensity\u001b[39m\u001b[38;5;124m'\u001b[39m]\u001b[38;5;241m=\u001b[39mstates[\u001b[38;5;124m'\u001b[39m\u001b[38;5;124mpopulation\u001b[39m\u001b[38;5;124m'\u001b[39m]\u001b[38;5;241m/\u001b[39mstates[\u001b[38;5;124m'\u001b[39m\u001b[38;5;124marea\u001b[39m\u001b[38;5;124m'\u001b[39m]\n\u001b[0;32m      2\u001b[0m \u001b[38;5;28mprint\u001b[39m(states)\n",
      "\u001b[1;31mNameError\u001b[0m: name 'states' is not defined"
     ]
    }
   ],
   "source": [
    "states['density']=states['population']/states['area']\n",
    "print(states)\n"
   ]
  },
  {
   "cell_type": "code",
   "execution_count": 3,
   "id": "5db75144-90dc-42c4-808c-1eabd243a85c",
   "metadata": {},
   "outputs": [
    {
     "name": "stdout",
     "output_type": "stream",
     "text": [
      "a    0.25\n",
      "b    0.50\n",
      "c    0.75\n",
      "d    1.00\n",
      "dtype: float64\n"
     ]
    }
   ],
   "source": [
    "import pandas as pd\n",
    "data=pd.Series([0.25,0.5,0.75,1.0],index=['a','b','c','d'])\n",
    "print(data)"
   ]
  },
  {
   "cell_type": "code",
   "execution_count": 15,
   "id": "3e813bbc-7b6c-4e13-ad3f-1ef158a6ff72",
   "metadata": {},
   "outputs": [
    {
     "name": "stdout",
     "output_type": "stream",
     "text": [
      "        state  population    area     density\n",
      "0  California    39538223  423967   93.257784\n",
      "1       Texas    29145505  695662   41.896072\n",
      "2     Florida    21538187  170312  126.463121\n",
      "3    New York    20201249  141297  142.970120\n"
     ]
    }
   ],
   "source": [
    "# Calculate density as population divided by area\n",
    "states['density'] = states['population'] / states['area']\n",
    "\n",
    "# Print the updated DataFrame\n",
    "print(states)\n"
   ]
  },
  {
   "cell_type": "code",
   "execution_count": 3,
   "id": "261a52b2-ac31-4d18-ad6a-1288e68c38e4",
   "metadata": {},
   "outputs": [
    {
     "name": "stdout",
     "output_type": "stream",
     "text": [
      "        state  population    area\n",
      "0  California    39538223  423967\n",
      "1       Texas    29145505  695662\n",
      "2     Florida    21538187  170312\n",
      "3    New York    20201249  141297\n"
     ]
    }
   ],
   "source": [
    "import pandas as pd\n",
    "\n",
    "# Sample DataFrame\n",
    "states = pd.DataFrame({\n",
    "    'state': ['California', 'Texas', 'Florida', 'New York'],\n",
    "    'population': [39538223, 29145505, 21538187, 20201249],\n",
    "    'area': [423967, 695662, 170312, 141297]  # in square kilometers\n",
    "})\n",
    "\n",
    "print(states)"
   ]
  },
  {
   "cell_type": "code",
   "execution_count": 4,
   "id": "45e25877-19e0-4562-b09b-7cab0afd1ecb",
   "metadata": {},
   "outputs": [
    {
     "name": "stdout",
     "output_type": "stream",
     "text": [
      "        state  population    area     density\n",
      "0  California    39538223  423967   93.257784\n",
      "1       Texas    29145505  695662   41.896072\n",
      "2     Florida    21538187  170312  126.463121\n",
      "3    New York    20201249  141297  142.970120\n"
     ]
    }
   ],
   "source": [
    "states['density'] = states['population'] / states['area']\n",
    "\n",
    "# Print the updated DataFrame\n",
    "print(states)"
   ]
  },
  {
   "cell_type": "code",
   "execution_count": 12,
   "id": "2eea0b54-e15f-4916-ab24-6837eb6c7059",
   "metadata": {},
   "outputs": [
    {
     "name": "stdout",
     "output_type": "stream",
     "text": [
      "    city  population   area\n",
      "0  Lahan      110000    536\n",
      "1    Brt      510000   1000\n",
      "2    Ktm     2000000  30000\n"
     ]
    }
   ],
   "source": [
    "import pandas as pd\n",
    "city=pd.DataFrame({\n",
    "    'city': ['Lahan','Brt','Ktm'],\n",
    "    'population':[110000,510000,2000000],\n",
    "    'area':[536,1000,30000]\n",
    "})\n",
    "print(city)\n"
   ]
  },
  {
   "cell_type": "code",
   "execution_count": 9,
   "id": "901923bb-4add-4f3f-b4de-478ec025e138",
   "metadata": {},
   "outputs": [
    {
     "name": "stdout",
     "output_type": "stream",
     "text": [
      "    city  population   area\n",
      "0  Lahan      110000    536\n",
      "1    Brt      510000   1000\n",
      "2    Ktm     2000000  30000\n"
     ]
    }
   ],
   "source": [
    "city = pd.DataFrame({\n",
    "    'city': ['Lahan', 'Brt', 'Ktm'],  # Added missing quotation mark\n",
    "    'population': [110000, 510000, 2000000],\n",
    "    'area': [536, 1000, 30000]\n",
    "})\n",
    "print(city)"
   ]
  },
  {
   "cell_type": "code",
   "execution_count": 13,
   "id": "ddb5ecee-b354-440f-bb4f-19c3060789e4",
   "metadata": {},
   "outputs": [
    {
     "name": "stdout",
     "output_type": "stream",
     "text": [
      "    city  population   area     density\n",
      "0  Lahan      110000    536  205.223881\n",
      "1    Brt      510000   1000  510.000000\n",
      "2    Ktm     2000000  30000   66.666667\n"
     ]
    }
   ],
   "source": [
    "city['density']=city['population']/city['area']\n",
    "print(city)"
   ]
  },
  {
   "cell_type": "code",
   "execution_count": 3,
   "id": "89b217b4-7008-4966-9870-ef1dd1333b44",
   "metadata": {},
   "outputs": [
    {
     "name": "stdout",
     "output_type": "stream",
     "text": [
      "    x   y   z\n",
      "0  78  84  86\n",
      "1  85  94  97\n",
      "2  96  89  96\n",
      "3  80  83  72\n",
      "4  86  80  83\n"
     ]
    }
   ],
   "source": [
    "import pandas as pd\n",
    "data=pd.DataFrame({\n",
    "    'x':[78,85,96,80,86],\n",
    "    'y':[84,94,89,83,80],\n",
    "    'z':[86,97,96,72,83]\n",
    "    })\n",
    "print(data)"
   ]
  },
  {
   "cell_type": "code",
   "execution_count": 11,
   "id": "7b81a582-3976-42f2-927c-f8ff084ff0fe",
   "metadata": {},
   "outputs": [
    {
     "name": "stdout",
     "output_type": "stream",
     "text": [
      "    name  score  attempt qualify labels\n",
      "0  virat  101.0        1     yes      a\n",
      "1  dhoni   85.0        1      no      b\n",
      "2  rohit   78.0        2      no      c\n",
      "3   pant    NaN        2     yes      d\n",
      "4  rahul   56.0        1     yes      e\n"
     ]
    }
   ],
   "source": [
    "import pandas as pd\n",
    "import numpy as np\n",
    "\n",
    "data=pd.DataFrame({\n",
    "    'name':['virat','dhoni','rohit','pant','rahul'],\n",
    "    'score':[101,85,78,np.nan,56],\n",
    "    'attempt':[1,1,2,2,1],\n",
    "    'qualify':['yes','no','no','yes','yes'],\n",
    "    'labels':['a','b','c','d','e']\n",
    "})\n",
    "print(data)"
   ]
  },
  {
   "cell_type": "markdown",
   "id": "e0469503-c4cc-4263-a584-d2d34f4dde9b",
   "metadata": {},
   "source": [
    "Assignment of Numpy"
   ]
  },
  {
   "cell_type": "code",
   "execution_count": 4,
   "id": "89dbdd3e-1ef5-42e4-b7df-221b15eabdb9",
   "metadata": {},
   "outputs": [
    {
     "name": "stdout",
     "output_type": "stream",
     "text": [
      "array: [ 2  4  5 -2]\n",
      "size of the memory array: 16 bytes\n"
     ]
    }
   ],
   "source": [
    "#Write Numpy program to create an array with the values 2,4,5,-2 and print the size of the memory occupied by the array?\n",
    "\n",
    "\n",
    "import numpy as np\n",
    "arr=np.array([2,4,5,-2])\n",
    "print('array:',arr)\n",
    "print('size of the memory array:',arr.nbytes,'bytes')"
   ]
  },
  {
   "cell_type": "code",
   "execution_count": 2,
   "id": "20c0b8c0-42d1-48f9-a1fd-78835e05d92d",
   "metadata": {},
   "outputs": [
    {
     "name": "stdout",
     "output_type": "stream",
     "text": [
      "array: [ 2  4  5 -2]\n",
      "size of the memory array: 16 bytes\n"
     ]
    }
   ],
   "source": [
    "import numpy as np\n",
    "arr=np.array([2,4,5,-2])\n",
    "print('array:',arr)\n",
    "print('size of the memory array:',arr.nbytes,'bytes')"
   ]
  },
  {
   "cell_type": "code",
   "execution_count": 9,
   "id": "4479bdf3-09cb-4447-8f6a-7e0bcc480380",
   "metadata": {},
   "outputs": [
    {
     "name": "stdout",
     "output_type": "stream",
     "text": [
      "[0 0 0 0 0 0 0 0 0 0 0 0 0 0 0 0 0 0 0 0 1 1 1 1 1 1 1 1 1 1 1 1 1 1 1 1 1\n",
      " 1 1 1 2 2 2 2 2 2 2 2 2 2 2 2 2 2 2 2 2 2 2 2 3 3 3 3 3 3 3 3 3 3 3 3 3 3\n",
      " 3 3 3 3 3 3 4 4 4 4 4 4 4 4 4 4 4 4 4 4 4 4 4 4 4 4 5 5 5 5 5 5 5 5 5 5 5\n",
      " 5 5 5 5 5 5 5 5 5]\n"
     ]
    }
   ],
   "source": [
    "#create a numpy array with 20 elements each of 0,1,2,3,4,5\n",
    "\n",
    "import numpy as np\n",
    "data=np.repeat([0,1,2,3,4,5],20)\n",
    "print(data)"
   ]
  },
  {
   "cell_type": "code",
   "execution_count": 11,
   "id": "920d66dc-037b-4a1c-880e-f2ed20bfb7a5",
   "metadata": {},
   "outputs": [
    {
     "name": "stdout",
     "output_type": "stream",
     "text": [
      "[0 1 2 3 4 5 0 1 2 3 4 5 0 1 2 3 4 5 0 1 2 3 4 5 0 1 2 3 4 5 0 1 2 3 4 5 0\n",
      " 1 2 3 4 5 0 1 2 3 4 5 0 1 2 3 4 5 0 1 2 3 4 5 0 1 2 3 4 5 0 1 2 3 4 5 0 1\n",
      " 2 3 4 5 0 1 2 3 4 5 0 1 2 3 4 5 0 1 2 3 4 5 0 1 2 3 4 5 0 1 2 3 4 5 0 1 2\n",
      " 3 4 5 0 1 2 3 4 5]\n"
     ]
    }
   ],
   "source": [
    "#same problem in different method like\n",
    "\n",
    "import numpy as np\n",
    "data=[0,1,2,3,4,5]\n",
    "repeat=20\n",
    "data=np.tile(data,repeat)\n",
    "print(data)"
   ]
  },
  {
   "cell_type": "code",
   "execution_count": 15,
   "id": "d15eb73f-6175-4b5e-8883-529493e93cf4",
   "metadata": {},
   "outputs": [
    {
     "name": "stdout",
     "output_type": "stream",
     "text": [
      "[[ 0  1  2  3]\n",
      " [ 4  5  6  7]\n",
      " [ 8  9 10 11]]\n"
     ]
    }
   ],
   "source": [
    "#create numpy array of integers (3*4)arrays using arange() and reshap() in one line code\n",
    "\n",
    "import numpy as np\n",
    "arr=np.arange(12).reshape(3,4)\n",
    "print(arr)"
   ]
  },
  {
   "cell_type": "code",
   "execution_count": 1,
   "id": "b6f1a263-c3fb-4fe3-92cc-1a4f96083afb",
   "metadata": {},
   "outputs": [
    {
     "name": "stdout",
     "output_type": "stream",
     "text": [
      "[11.35348813  9.79808662  9.44529888  8.75629761  9.72956252 10.11253461\n",
      "  9.09507053 10.4611662   8.97387708 10.6329098   7.18408981  9.75504114\n",
      "  9.25787813 10.23707405  8.02429886 10.72000714 12.1340703   9.01782371\n",
      " 10.20454724  8.65408033 14.23993953 13.60869996  9.98493664  9.60823933\n",
      " 10.71519011 11.48820615  9.93119799  9.63135808  9.07449401  9.65072209\n",
      " 12.13188993  7.60805675 12.02714507  9.1034313  10.67024308 12.55527302\n",
      " 10.54745376 10.6241894   8.05240769 12.51114581  8.13057182  9.64192847\n",
      " 10.42370671  9.47953903 11.47698251  8.19250885  8.29550065 11.33360262\n",
      " 10.66903853  8.12048728  9.78202685 11.51767368  9.71390302  8.80773117\n",
      " 10.51904273  9.74978027  9.89923206  9.53526559 10.86627376  8.48610835\n",
      " 10.25881326 12.50213927  7.80569633  8.9490915   9.89401976 11.66976473\n",
      " 10.25392952  9.67733233 11.16471458  7.80116474  9.06065169 11.09353202\n",
      "  8.70944957  9.18244215 12.47874407 12.84742581 12.10480419  7.97217928\n",
      " 12.00814889  6.97507013  9.97785275 11.09199409  5.28246266 10.46935664\n",
      " 10.62688086  6.20462559 11.82691197 11.24974779  9.24271292 10.93030887\n",
      "  9.30255074 11.81974664  7.16931384 10.79797753  8.64545984  7.15882467\n",
      "  9.56955748  8.17210188 10.31825029  8.26012298 12.62579522  8.95617242\n",
      "  9.93602824 10.70820729 10.59093348  7.08385693  9.72863167 11.26303989\n",
      "  8.45395403 12.06994372 10.69742342  9.91801317  9.39109481  8.64440446\n",
      " 12.03091596 10.29935441 10.98047638  8.60311549 11.67862219 11.57233966\n",
      "  6.88967366 10.39117496  9.50800991 10.54074201 11.51102478  7.85228102\n",
      " 12.21715985 11.12914792 11.48507113 11.23900219  9.29130933 10.969661\n",
      " 10.46671385  7.98677433 12.29195751 11.3069435  11.75394988  8.25751938\n",
      " 10.17368085 11.02436499 10.03958892 10.76449519 10.40199296 12.92567191\n",
      " 12.28645354 11.01903193 11.06235912 12.40929704 11.22598881 11.12872436\n",
      "  7.966955   13.15357551  8.39013479 11.18560573 11.95735827 10.55250982\n",
      "  8.78132254  9.76271131  8.6397117  10.91015277 11.99365793 10.07734537\n",
      "  9.15418135 10.46316664  9.29728034 11.51913621 10.57635871 10.49382639\n",
      " 13.37433234  6.60508831  8.18672819 10.19612042 11.10548784 11.04194988\n",
      "  9.21969716 13.54696568 10.81294012  9.51162212 11.31621918 10.42817175\n",
      " 10.48794919 10.61850421 11.17576241  9.7049825   7.6817541  11.09588974\n",
      "  8.90811834  8.05853158 12.44577499 11.04311925  7.67061806 11.19136041\n",
      " 10.20570081 10.23093513  8.53898408 10.69557271  8.92326695 12.8388554\n",
      " 10.60282927 10.95077108  8.23363321  9.67464243 10.36155771 10.28228424\n",
      " 11.63213133  8.9277257  11.24276568  9.67597443  7.49621687  6.90598667\n",
      " 10.91393891  9.95767053 10.46490377  8.6229753   9.58344539 10.50779148\n",
      " 11.35254638  9.94658489  7.49496668  9.72477077 13.33433127  8.86182864\n",
      "  8.75112809  7.80698583 11.97560765 10.37014738  7.52990668  7.03500042\n",
      "  8.07639287 10.62187225 10.00626739  6.79928991  9.60590547  8.63580161\n",
      " 12.50003194  7.96529884  9.06592592 10.97612037 10.32464853 12.6346375\n",
      " 10.66291244 11.26327016 10.68089806 11.9752698   9.49996897 11.22871257\n",
      " 12.58976895 10.34841263  7.69030829 10.94508386 12.80946792  9.45654417\n",
      "  8.03078845  7.85570486 10.89383454 10.19279277 13.76708211 10.76174767\n",
      " 10.76763316  9.37860458  7.17620277  9.78006251  7.93737245 10.50083839\n",
      "  9.53209854  9.22460811  9.88266262 11.05329032  8.47807218  8.53401081\n",
      " 10.51197179  8.00498724 10.37439972 12.27786352  7.42790289 11.61374097\n",
      "  9.06202521  7.68750859  8.45249691  7.55286265  7.82782731  9.76065069\n",
      " 11.68022881  9.35974574 11.62954008  9.88938729 10.97963321  8.56967709\n",
      "  9.78018049 11.24783217 10.46567203 10.35632642  9.70353046  9.30908116\n",
      "  8.48779434 11.11866109 10.55897213 12.70773567 10.39336953  9.55095754\n",
      " 12.57500969 11.88180702  8.90467726 12.24078995  7.91522918  7.00190602\n",
      " 11.68416264  8.89555313 10.51946208 11.10703808  8.48122552  8.93063724\n",
      " 10.38951769 10.69814204 10.17448785  9.76940514 10.13969628  9.64065548\n",
      "  8.51086356  9.31893229 10.34695934 11.49647897  9.34314239  9.85963697\n",
      " 10.72143554  8.24063671  9.34598065  9.62908768 14.13858566  9.39103937\n",
      "  9.96105563 11.699961   11.10603252 10.16510288 10.6373821  11.6413454\n",
      "  9.71971511 10.51563562  9.76929838  8.97286327  8.01928893  8.88424915\n",
      " 11.14368372 11.06196104 10.26964578  7.9360556   8.6924158   8.73120258\n",
      "  8.82457707  9.94907498  8.0468168  10.19174246  9.69030954 10.23441797\n",
      " 10.20114063 10.27990066  8.94941458 11.4511793   7.91016327  8.11819479\n",
      " 11.52476911  9.81786202 10.68605973  7.84028519 10.33802598  9.95676917\n",
      "  9.72619383  9.27392321  9.1229015   9.97909194  8.65427105  9.81863946\n",
      " 10.54150987  7.81609954 11.34010894  9.12591857 10.25940915  9.44143104\n",
      " 12.49586394  8.52042938  8.29533045  8.91482772 10.37572482 10.52844317\n",
      " 10.59144049 10.16187502 11.0743703  10.44313398 11.65291804  9.02996988\n",
      " 10.60973412  8.86232812  9.35173709  6.33500539 10.29354891 10.7504601\n",
      "  8.43643115  9.73315097  6.6774303  10.08900758  8.96629217 11.50595703\n",
      " 12.12510786  7.24981436 11.11720314  8.86386502 10.04405532  9.80188586\n",
      " 11.03191278  9.44257964  7.7432252   8.69160506 12.18220351 12.48108224\n",
      " 12.14130372 11.83928658 12.05451841 10.12505534 10.34022469 12.43641501\n",
      " 10.85515614 11.75445719  9.83068531  9.54446878  8.65052485  9.57136928\n",
      " 12.82505355 10.99436839  8.90981499 11.05917512  9.9856722   9.33956068\n",
      " 12.9965034  11.4038309   9.49066374  8.88059553  8.59405997 10.15272717\n",
      " 12.70143236 11.43253185 10.69961704 10.42898206 11.11928657 11.28827409\n",
      "  9.42711306  6.3535332  10.53186467 10.61412699  8.65999063 10.35487078\n",
      " 11.67803171 12.07322765  9.90795102 11.56580965  9.31167794  7.7934851\n",
      "  8.71443179 12.1678426   8.27588211  8.28432522 10.71244577 10.64530483\n",
      " 11.34230693  8.37288135 10.61918148  8.67934649  9.21321027 10.70519537\n",
      "  9.59176621  8.65542842  8.9463275   9.8291129  13.17284165  9.43369984\n",
      "  9.3051023   7.78407653  9.71985348  7.22548582 10.03172147  8.94763827\n",
      "  9.30067374 10.87751643  9.8485934   7.54824312 10.7097671  12.73899534\n",
      "  8.0831737   7.1515862  10.11168158  8.5690077   9.37125289  8.83503588\n",
      " 10.3987166  10.31891607  7.27900099 10.27405255  8.97497748 10.52593385\n",
      " 10.86229058  8.59567004  8.16356675 10.86208453  9.45887987 11.71134094\n",
      "  8.90504537 10.5461276  11.41025645  8.60033384  9.59759561  9.27903953\n",
      "  5.46391035  8.22056584 12.48166085  9.72844695  8.42141088  8.97526235\n",
      " 11.55456171 12.08005033  9.38408986  9.36673086  9.66804826  9.72009664\n",
      "  8.40510433 10.8410191   7.28808341  8.52782364  8.23681513  8.15107032\n",
      " 11.96550202  8.16913034  7.75983775 11.27810713 11.83988255 10.07064115\n",
      "  9.41942413 11.34337627 12.50357464 10.63096497  8.51565778 10.04392152\n",
      "  6.86310688 11.38222335 11.32667626 12.12354574 10.45245797  7.79737042\n",
      "  8.45366281  9.001114   10.3260116  10.31222742  8.52596058 11.20561401\n",
      "  9.15225658 11.49182547  9.30592294  9.57463876 11.11940844 12.15633721\n",
      " 12.48806288  8.77614087 10.53164413 11.14754837  8.35013963 10.74937973\n",
      " 12.30412887 11.54239774 10.10508413 10.05000775  9.63842104 10.22968688\n",
      "  9.58524953 11.63416263 10.13640324  8.72013747 10.02839681  8.58110116\n",
      "  7.94403763  9.95291875  8.97196669 10.43961406 10.28048205 12.07367157\n",
      " 11.69071893 10.2421951   9.70285458  7.92663484  9.22894471 10.63233271\n",
      " 10.77263513  7.19488235  8.74139106 10.52515709 10.21403859 11.25346848\n",
      " 11.13410831  8.351047    6.40300169 10.52996987  9.15609356 11.56516674\n",
      "  9.4720615   8.99759941 10.65409977  9.8533283   7.8104237   9.16156965\n",
      " 10.15927192  8.08013422 10.02049681 11.77187472  9.20698206 12.24468766\n",
      " 11.71173748 10.66688393 10.41708766  8.20132125  9.31457523  7.95346262\n",
      " 10.55686135  8.08325211 12.17034783 13.61338253  8.80847421  7.97637652\n",
      "  8.34100617  9.61729227  8.08457474  9.71840606 11.37121929  7.1632605\n",
      " 11.70255733  7.39318396  9.1927636   8.80084086  6.38704684 11.56654901\n",
      "  9.4829279   9.84825369 10.03245849 13.37020109 11.7397449  11.25824656\n",
      " 11.21553055  6.30762182 10.64376506 10.95567066 12.31373994 10.80820271\n",
      "  8.19486994 10.30940905 11.16944186 11.83606143  7.57452338 11.01465481\n",
      " 10.44222296  9.0323262   8.65461096  9.96965501  9.85082656  7.90516294\n",
      "  8.78538067  8.71277238  9.03492421 10.7454228   9.04638672 11.63666273\n",
      "  9.53909909 10.384562   11.85340755 10.37882452 11.23642798  9.46891644\n",
      "  9.06009313 13.04036841  6.63956679 10.29490978  8.54080193  6.1114668\n",
      " 10.79746034 10.65205363  8.84281085 11.0976634  11.54762674 10.22979579\n",
      "  8.94594646 10.64004897  9.92661256 11.78062473 10.53503615  8.71885154\n",
      "  9.98501961  8.83587704 10.34688303 10.75074298  9.67516125 12.09035313\n",
      " 14.09256296 10.91358193 11.94745317 10.39218632  9.49419312  8.67162726\n",
      " 10.1710426  10.09269399  9.49448241 10.62913818 12.31116343 10.03141176\n",
      " 11.72842705  8.20870398 10.14921811  9.67235374 11.11086051 10.58958041\n",
      "  9.43036864 10.03377187 11.15005884 10.66478739 10.04140624  9.44474827\n",
      " 10.10042349 10.9525676   8.08992769 10.88082722  9.83903386 10.50019236\n",
      "  9.16133975 10.58499057  7.05181303  9.04529058  8.75931671 10.39282878\n",
      " 10.60545833  9.74658859 11.15236627  9.93109585 10.11414427  9.36381455\n",
      " 10.46238348 11.72448861 10.13090471  7.86273492  8.60439391 12.93017774\n",
      "  9.42399943  8.77586036 10.8697331   9.06271784  8.06853502  9.12643621\n",
      "  8.98420989 10.27395962 10.68079185  9.7637723  11.23995894  8.98852996\n",
      "  9.38419435 12.43783039  7.12443736 10.41183627 12.22942002  9.68505291\n",
      " 10.14043752  9.57913403  8.11576964  8.87220562  9.58588379  9.27804763\n",
      "  9.90496255 11.10279932  9.37513124 10.14371407  6.23774629 10.75435356\n",
      "  9.88727268 10.41773541 10.38929057 11.17580253 11.7935923  11.94534164\n",
      " 10.4202441   9.90849195  9.41181098  7.28052898 10.87229481  8.31262252\n",
      "  7.88426544 11.26342162  9.89672729 12.4931673  12.51118082 10.07727716\n",
      " 10.08946121 12.35119377  7.49173037 10.97570009  8.77888468  9.98520845\n",
      "  9.29966397 10.31756415  9.6505239  12.52322943 10.40085879 12.10988849\n",
      "  8.24307304 12.50690207 13.00580997  8.0899688  11.78993314  9.63267272\n",
      " 10.46317312 10.22221126  7.83707528 10.52055215  8.42369459 10.06769827\n",
      " 10.13047356  5.48242876  9.95738639  9.74126618 11.66818496  9.36145179\n",
      "  9.45752221  9.2373066   8.18743772  8.36032376 12.14640682  9.64836294\n",
      " 10.13673953  9.10433184  8.87750401  9.00938277 11.14062268  8.3014338\n",
      "  9.2903383   7.5173593  11.24972183  7.87764518 13.50906749 10.91395236\n",
      " 10.34365715  6.72048448  9.33986766 12.2945376  11.51276986  7.9173826\n",
      " 12.47668255 11.64585923  9.72334665 11.32281926  8.66345379 12.09296173\n",
      "  9.8396811  11.36856421 12.57240824 13.00760727 10.82521175  9.72390028\n",
      " 10.73455035 10.34715509 13.33714507  9.50612773 11.10767123  9.21879151\n",
      "  9.82988107  9.06378489 10.5485126  11.80724709  9.73028383 11.19753388\n",
      " 12.10695086 12.02681878 11.59671352  7.37178794  7.75948544 12.2254701\n",
      " 11.38266551 11.58536759 13.34003807  9.15096916  9.93278274 10.21030856\n",
      "  9.19535966  8.47115191 10.33281107 10.0276808   7.22486408 12.06886726\n",
      " 10.36962964  6.53093291 12.43303762  9.28107147 10.70086707 11.47377099\n",
      "  9.2640611  10.07088682  9.90331039 10.11102031  9.71459039  7.01316697\n",
      "  7.39693428 10.49149706  7.51293546  9.70617621 10.00429052  7.74735566\n",
      "  9.64026524 11.08654382 10.36916134  8.44706988  9.85016587  9.41950045\n",
      "  9.89184015 10.46345227 10.6771229   9.82375783  9.99794191  9.75371233\n",
      " 12.28717511  9.06399393 11.17201112 11.04824168  9.43453082  9.00658488\n",
      "  8.12315607  8.60677582 11.24964786  8.93068881 11.22141194 10.55735339\n",
      " 10.31167423 12.40950111  9.72311598 11.54170806 10.16208431  9.46140701\n",
      "  9.94799671 10.9738402   6.71581922 12.13574052  9.58010327  8.25667551\n",
      " 10.36672253 10.61843916 10.55764134  6.9768051   9.17522705 10.89299895\n",
      " 10.85816231 10.75885733 11.23856025  9.60521378  7.73390546 10.08744094\n",
      " 11.8759263  11.18666594  8.2673075  11.19611737 10.05506227  9.37405792\n",
      " 13.98857604  7.04922701  9.4126674   8.95545577  9.76782931 10.97187031\n",
      " 10.1101863   9.34901299  9.83340145  7.65704637  8.9055978   8.73733532\n",
      " 12.07113409 10.63247512  8.23587124 11.14435716 10.26611827 10.28814318\n",
      " 10.64436849 10.58624012  8.31419495  8.20405743 12.06146742 11.28523116\n",
      "  8.00518096 10.15695836 11.8630506   9.40154507 10.33544933  9.78679837\n",
      " 12.16965272  9.66110812 10.49407881  9.34210839  7.7528267   9.27577007\n",
      " 11.41295601 10.52087828  9.20251508  9.91374355]\n"
     ]
    }
   ],
   "source": [
    "# create a numpy program to create an array of 1000 random numbers from a normal distribution with mean of 10 and standard deviation of1.5?\n",
    "\n",
    "import numpy as np\n",
    "mean=10\n",
    "std_dev=1.5\n",
    "size=1000\n",
    "random_numbers=np.random.normal(loc=mean,scale=std_dev,size=size)\n",
    "print(random_numbers)\n"
   ]
  },
  {
   "cell_type": "markdown",
   "id": "8ca8596f-82ec-4585-8dd2-8481b9b11bf7",
   "metadata": {},
   "source": []
  }
 ],
 "metadata": {
  "kernelspec": {
   "display_name": "Python 3 (ipykernel)",
   "language": "python",
   "name": "python3"
  },
  "language_info": {
   "codemirror_mode": {
    "name": "ipython",
    "version": 3
   },
   "file_extension": ".py",
   "mimetype": "text/x-python",
   "name": "python",
   "nbconvert_exporter": "python",
   "pygments_lexer": "ipython3",
   "version": "3.12.4"
  }
 },
 "nbformat": 4,
 "nbformat_minor": 5
}
