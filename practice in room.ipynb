{
 "cells": [
  {
   "cell_type": "code",
   "execution_count": 1,
   "id": "e3700d38-bf15-4403-91a6-d4224fad112c",
   "metadata": {},
   "outputs": [
    {
     "name": "stdout",
     "output_type": "stream",
     "text": [
      "8.166666666666666\n"
     ]
    }
   ],
   "source": [
    "x=7*(3+8-4)/6\n",
    "print(x)"
   ]
  },
  {
   "cell_type": "code",
   "execution_count": 2,
   "id": "d0a496e4-b009-429f-8bcb-d9358c426575",
   "metadata": {},
   "outputs": [
    {
     "data": {
      "text/plain": [
       "6"
      ]
     },
     "execution_count": 2,
     "metadata": {},
     "output_type": "execute_result"
    }
   ],
   "source": [
    "5 and 6"
   ]
  },
  {
   "cell_type": "code",
   "execution_count": 2,
   "id": "01110242-5575-402b-af25-5253e5a258c3",
   "metadata": {},
   "outputs": [
    {
     "data": {
      "text/plain": [
       "['sunday', 'Monday', 'Tuesday', 'Wednesday', 'Thursday', 'Friday', 'Saturday']"
      ]
     },
     "execution_count": 2,
     "metadata": {},
     "output_type": "execute_result"
    }
   ],
   "source": [
    "days_of_week=['sunday','Monday','Tuesday','Wednesday','Thursday','Friday','Saturday']\n",
    "days_of_week\n",
    "              "
   ]
  },
  {
   "cell_type": "code",
   "execution_count": 3,
   "id": "56bf0129-0a19-4c98-9a4a-0488def24bab",
   "metadata": {},
   "outputs": [
    {
     "data": {
      "text/plain": [
       "7"
      ]
     },
     "execution_count": 3,
     "metadata": {},
     "output_type": "execute_result"
    }
   ],
   "source": [
    "len(days_of_week)"
   ]
  },
  {
   "cell_type": "code",
   "execution_count": 4,
   "id": "427160bb-3225-45c1-82a4-cd7927347498",
   "metadata": {},
   "outputs": [
    {
     "name": "stdout",
     "output_type": "stream",
     "text": [
      "sunday\n"
     ]
    }
   ],
   "source": [
    " print(days_of_week[0])"
   ]
  },
  {
   "cell_type": "code",
   "execution_count": 5,
   "id": "469407fd-cb48-4ea0-a5a8-279f0a04ddb0",
   "metadata": {},
   "outputs": [
    {
     "name": "stdout",
     "output_type": "stream",
     "text": [
      "Thursday\n"
     ]
    }
   ],
   "source": [
    "print(days_of_week[4])"
   ]
  },
  {
   "cell_type": "code",
   "execution_count": 7,
   "id": "f9c90667-4e21-41dd-987e-b4744477c999",
   "metadata": {},
   "outputs": [
    {
     "name": "stdout",
     "output_type": "stream",
     "text": [
      "[1, 3, 0, 'true', 'so beautiful']\n"
     ]
    }
   ],
   "source": [
    "my_list=[1,3,0,'true','so beautiful']\n",
    "print(my_list)"
   ]
  },
  {
   "cell_type": "code",
   "execution_count": 16,
   "id": "51443b92-1691-4e12-80df-bf5e170d981b",
   "metadata": {},
   "outputs": [
    {
     "name": "stdout",
     "output_type": "stream",
     "text": [
      "you can vote\n"
     ]
    }
   ],
   "source": [
    "age = 25\n",
    "if age > 18:\n",
    "    print(\"you can vote\")\n",
    "elif age < 18:\n",
    "    print(\"you can't vote\")\n",
    "elif age == 18:\n",
    "    print(\"get citizenship to vote\")\n",
    "else:\n",
    "   print(\"invalid age\")"
   ]
  },
  {
   "cell_type": "code",
   "execution_count": 14,
   "id": "e80d8591-2154-424b-a6af-4c7c75b58152",
   "metadata": {},
   "outputs": [
    {
     "name": "stdout",
     "output_type": "stream",
     "text": [
      "You can vote\n"
     ]
    }
   ],
   "source": [
    "age = 25\n",
    "if age > 18:\n",
    "    print(\"You can vote\")\n",
    "elif age < 18:\n",
    "    print(\"You can't vote\")\n",
    "elif age == 18:\n",
    "    print(\"Get citizenship to vote\")\n",
    "else:\n",
    "    print(\"Invalid age\")"
   ]
  },
  {
   "cell_type": "code",
   "execution_count": 21,
   "id": "3d58ee46-ca82-4f4f-8d9c-5bd44e2ed71a",
   "metadata": {},
   "outputs": [
    {
     "name": "stdout",
     "output_type": "stream",
     "text": [
      "X is greater than 30.\n"
     ]
    }
   ],
   "source": [
    "X = 35\n",
    "if X > 10 and X > 30:\n",
    "    print(\"X is greater than 30.\")\n",
    "else:\n",
    "    print(\"X is not greater than 30.\")"
   ]
  },
  {
   "cell_type": "markdown",
   "id": "22e2ffec-591b-4dd4-9ef8-d76ed282e69a",
   "metadata": {},
   "source": [
    "loop example"
   ]
  },
  {
   "cell_type": "code",
   "execution_count": 1,
   "id": "1290a69f-5bdc-44d6-bf2c-2ac8d10fc801",
   "metadata": {},
   "outputs": [
    {
     "name": "stdout",
     "output_type": "stream",
     "text": [
      "g\n",
      "e\n",
      "e\n",
      "k\n",
      "s\n"
     ]
    }
   ],
   "source": [
    "s=\"geeks\"\n",
    "for i in s:\n",
    "    print(i)"
   ]
  },
  {
   "cell_type": "markdown",
   "id": "783d0e91-7ad9-4698-b00f-43707191578e",
   "metadata": {},
   "source": [
    "python Dictionary eg"
   ]
  },
  {
   "cell_type": "code",
   "execution_count": 1,
   "id": "e67d0b44-b863-47ff-a83f-0cb73c82da87",
   "metadata": {},
   "outputs": [
    {
     "data": {
      "text/plain": [
       "{'chicago': 3.5, 'New york': 7, 'LA': 6}"
      ]
     },
     "execution_count": 1,
     "metadata": {},
     "output_type": "execute_result"
    }
   ],
   "source": [
    "city_pop={\n",
    "    \"chicago\":3.5,\n",
    "    \"New york\":7,\n",
    "    \"LA\":6\n",
    "}\n",
    "city_pop"
   ]
  },
  {
   "cell_type": "code",
   "execution_count": 3,
   "id": "476e5549-308f-4501-abfe-288b067b5fe5",
   "metadata": {},
   "outputs": [
    {
     "ename": "IndentationError",
     "evalue": "unexpected indent (1165567199.py, line 2)",
     "output_type": "error",
     "traceback": [
      "\u001b[1;36m  Cell \u001b[1;32mIn[3], line 2\u001b[1;36m\u001b[0m\n\u001b[1;33m    \"chicago\":3.5,\u001b[0m\n\u001b[1;37m    ^\u001b[0m\n\u001b[1;31mIndentationError\u001b[0m\u001b[1;31m:\u001b[0m unexpected indent\n"
     ]
    }
   ],
   "source": [
    "city_pop={chicago}\n",
    "    \"chicago\":3.5,\n",
    "    \"New york\":7,\n",
    "    \"LA\":6\n",
    "}\n",
    "city_pop"
   ]
  },
  {
   "cell_type": "code",
   "execution_count": 4,
   "id": "3a51ef4e-4828-455e-b1c5-c37f0058d79f",
   "metadata": {},
   "outputs": [
    {
     "data": {
      "text/plain": [
       "dict_keys(['chicago', 'New york', 'LA'])"
      ]
     },
     "execution_count": 4,
     "metadata": {},
     "output_type": "execute_result"
    }
   ],
   "source": [
    "city_pop.keys()"
   ]
  },
  {
   "cell_type": "code",
   "execution_count": 5,
   "id": "743f5b23-8025-464c-b6dd-02fa46baf543",
   "metadata": {},
   "outputs": [
    {
     "data": {
      "text/plain": [
       "dict_values([3.5, 7, 6])"
      ]
     },
     "execution_count": 5,
     "metadata": {},
     "output_type": "execute_result"
    }
   ],
   "source": [
    "city_pop.values()"
   ]
  },
  {
   "cell_type": "code",
   "execution_count": 6,
   "id": "b6fdb6cd-fa4e-41d7-aaf8-152a37be449f",
   "metadata": {},
   "outputs": [
    {
     "data": {
      "text/plain": [
       "True"
      ]
     },
     "execution_count": 6,
     "metadata": {},
     "output_type": "execute_result"
    }
   ],
   "source": [
    "\"chicago\"in city_pop"
   ]
  },
  {
   "cell_type": "code",
   "execution_count": 7,
   "id": "778b60d7-1066-4055-badc-cbaf7a97965a",
   "metadata": {},
   "outputs": [
    {
     "data": {
      "text/plain": [
       "False"
      ]
     },
     "execution_count": 7,
     "metadata": {},
     "output_type": "execute_result"
    }
   ],
   "source": [
    "\"San Franscisco\"in city_pop"
   ]
  },
  {
   "cell_type": "code",
   "execution_count": 9,
   "id": "03716f31-aaa2-414b-948d-0f1a737b3c2c",
   "metadata": {},
   "outputs": [
    {
     "data": {
      "text/plain": [
       "{'chicago': 3.5, 'New york': 7, 'LA': 20}"
      ]
     },
     "execution_count": 9,
     "metadata": {},
     "output_type": "execute_result"
    }
   ],
   "source": [
    "city_pop[\"LA\"]=20\n",
    "city_pop"
   ]
  },
  {
   "cell_type": "code",
   "execution_count": 10,
   "id": "9347707b-91b1-4679-a213-e3bb16e5416e",
   "metadata": {},
   "outputs": [
    {
     "data": {
      "text/plain": [
       "{'chicago': 30, 'New york': 7, 'LA': 20}"
      ]
     },
     "execution_count": 10,
     "metadata": {},
     "output_type": "execute_result"
    }
   ],
   "source": [
    "city_pop.update({\"chicago\":30})\n",
    "city_pop"
   ]
  },
  {
   "cell_type": "markdown",
   "id": "073f4321-9e6a-4816-a84b-e0f7ddf0b61d",
   "metadata": {},
   "source": [
    "add item dictionary eg"
   ]
  },
  {
   "cell_type": "markdown",
   "id": "ad3fbf43-0bb3-4791-9bf5-a6847686e5e2",
   "metadata": {},
   "source": [
    "city_pop[\"kathmandu\"]=2.5\n",
    "city_pop"
   ]
  },
  {
   "cell_type": "markdown",
   "id": "b53408a6-d89f-489e-8521-7a9f090c51d0",
   "metadata": {},
   "source": [
    "Remove item in dictionary"
   ]
  },
  {
   "cell_type": "code",
   "execution_count": 13,
   "id": "ba8ddf9d-0db4-4a20-b953-486f1004c5cf",
   "metadata": {},
   "outputs": [
    {
     "data": {
      "text/plain": [
       "{'chicago': 30, 'New york': 7, 'kathmandu': 2.5}"
      ]
     },
     "execution_count": 13,
     "metadata": {},
     "output_type": "execute_result"
    }
   ],
   "source": [
    "city_pop.pop(\"LA\")\n",
    "city_pop"
   ]
  },
  {
   "cell_type": "markdown",
   "id": "ad7c1e1b-0433-4a19-87bc-84c985517e8c",
   "metadata": {},
   "source": [
    "object-oriented concept"
   ]
  },
  {
   "cell_type": "markdown",
   "id": "665eb5dc-175e-4edb-8102-4a36c18ffbec",
   "metadata": {},
   "source": [
    "everything in python is an object.\n",
    "Class and Object:\n",
    "Class:class is like blue print for building object\n",
    "Object:The instance of class called object"
   ]
  },
  {
   "cell_type": "code",
   "execution_count": 16,
   "id": "3f192f92-2205-4957-b7df-1de9bd522acf",
   "metadata": {},
   "outputs": [],
   "source": [
    "class student:\n",
    "    school=\"school of Data science\""
   ]
  },
  {
   "cell_type": "code",
   "execution_count": 17,
   "id": "c33ae392-afa3-4f06-a3e8-78d848ac97fa",
   "metadata": {},
   "outputs": [
    {
     "name": "stdout",
     "output_type": "stream",
     "text": [
      "school of Data science\n",
      "school of Data science\n"
     ]
    }
   ],
   "source": [
    "student1=student()\n",
    "student2=student()\n",
    "print(student1.school)\n",
    "print(student2.school)"
   ]
  },
  {
   "cell_type": "markdown",
   "id": "af959f28-d874-4048-b803-6201bb7d46c9",
   "metadata": {},
   "source": [
    "constructor in python:constructor is same as function"
   ]
  },
  {
   "cell_type": "markdown",
   "id": "2ea8bfc0-ff0e-4325-8256-928d01e826ec",
   "metadata": {},
   "source": [
    "def_init_(self,name,level):\n",
    "self.name=name\n",
    "self.level=level these are the stntax of constructor "
   ]
  },
  {
   "cell_type": "code",
   "execution_count": 20,
   "id": "b7795d8d-7e95-4920-8fe8-2daf302ba7ad",
   "metadata": {},
   "outputs": [
    {
     "ename": "NameError",
     "evalue": "name 'Student' is not defined",
     "output_type": "error",
     "traceback": [
      "\u001b[1;31m---------------------------------------------------------------------------\u001b[0m",
      "\u001b[1;31mNameError\u001b[0m                                 Traceback (most recent call last)",
      "Cell \u001b[1;32mIn[20], line 1\u001b[0m\n\u001b[1;32m----> 1\u001b[0m student1\u001b[38;5;241m=\u001b[39mStudent(\u001b[38;5;124m\"\u001b[39m\u001b[38;5;124mkattle\u001b[39m\u001b[38;5;124m\"\u001b[39m,\u001b[38;5;241m1\u001b[39m)\n\u001b[0;32m      2\u001b[0m student2\u001b[38;5;241m=\u001b[39mStudent(\u001b[38;5;124m\"\u001b[39m\u001b[38;5;124mdipak\u001b[39m\u001b[38;5;124m\"\u001b[39m,\u001b[38;5;241m3\u001b[39m)\n\u001b[0;32m      3\u001b[0m \u001b[38;5;28mprint\u001b[39m(student1\u001b[38;5;241m.\u001b[39mname)\n",
      "\u001b[1;31mNameError\u001b[0m: name 'Student' is not defined"
     ]
    }
   ],
   "source": []
  },
  {
   "cell_type": "code",
   "execution_count": 26,
   "id": "60dfc630-8f7e-4cd2-a5f8-ae499411afe6",
   "metadata": {},
   "outputs": [
    {
     "name": "stdout",
     "output_type": "stream",
     "text": [
      "kattle\n",
      "1\n",
      "dipak\n",
      "3\n"
     ]
    }
   ],
   "source": [
    "class Student:\n",
    "    def __init__(self, name, level):\n",
    "        self.name = name\n",
    "        self.level = level\n",
    "\n",
    "\n",
    "student1 = Student(\"kattle\", 1)\n",
    "student2 = Student(\"dipak\", 3)\n",
    "\n",
    "print(student1.name)  \n",
    "print(student1.level) \n",
    "print(student2.name)  \n",
    "print(student2.level)"
   ]
  },
  {
   "cell_type": "code",
   "execution_count": 2,
   "id": "6f65aafa-e7f8-4bd5-a6f7-efe3d9d6413a",
   "metadata": {},
   "outputs": [
    {
     "name": "stdout",
     "output_type": "stream",
     "text": [
      "Defaulting to user installation because normal site-packages is not writeable\n",
      "Requirement already satisfied: numpy in c:\\programdata\\anaconda3\\lib\\site-packages (1.26.4)\n",
      "Note: you may need to restart the kernel to use updated packages.\n"
     ]
    }
   ],
   "source": [
    "pip install numpy"
   ]
  },
  {
   "cell_type": "code",
   "execution_count": 3,
   "id": "2a64e9c5-22a6-411d-ac96-6938b47fc58d",
   "metadata": {},
   "outputs": [
    {
     "name": "stdout",
     "output_type": "stream",
     "text": [
      "Defaulting to user installation because normal site-packages is not writeable\n",
      "Requirement already satisfied: pandas in c:\\programdata\\anaconda3\\lib\\site-packages (2.2.2)\n",
      "Requirement already satisfied: numpy>=1.26.0 in c:\\programdata\\anaconda3\\lib\\site-packages (from pandas) (1.26.4)\n",
      "Requirement already satisfied: python-dateutil>=2.8.2 in c:\\programdata\\anaconda3\\lib\\site-packages (from pandas) (2.9.0.post0)\n",
      "Requirement already satisfied: pytz>=2020.1 in c:\\programdata\\anaconda3\\lib\\site-packages (from pandas) (2024.1)\n",
      "Requirement already satisfied: tzdata>=2022.7 in c:\\programdata\\anaconda3\\lib\\site-packages (from pandas) (2023.3)\n",
      "Requirement already satisfied: six>=1.5 in c:\\programdata\\anaconda3\\lib\\site-packages (from python-dateutil>=2.8.2->pandas) (1.16.0)\n",
      "Note: you may need to restart the kernel to use updated packages.\n"
     ]
    }
   ],
   "source": [
    "pip install pandas\n"
   ]
  },
  {
   "cell_type": "code",
   "execution_count": 1,
   "id": "093f830f-de24-4386-97c9-8fe76dfa3742",
   "metadata": {},
   "outputs": [
    {
     "name": "stdout",
     "output_type": "stream",
     "text": [
      "Note: you may need to restart the kernel to use updated packages.\n"
     ]
    },
    {
     "name": "stderr",
     "output_type": "stream",
     "text": [
      "ERROR: unknown command \"instal\" - maybe you meant \"install\"\n",
      "\n"
     ]
    }
   ],
   "source": [
    "pip instal matplotlib"
   ]
  },
  {
   "cell_type": "markdown",
   "id": "6190ddac-b0b7-4d8b-bf78-876350eb1162",
   "metadata": {},
   "source": [
    "#Numpy library"
   ]
  },
  {
   "cell_type": "code",
   "execution_count": 2,
   "id": "7d9f7b63-5524-4c7d-8ecd-bce5832ebe1e",
   "metadata": {},
   "outputs": [
    {
     "name": "stdout",
     "output_type": "stream",
     "text": [
      "Defaulting to user installation because normal site-packages is not writeable\n",
      "Requirement already satisfied: numpy in c:\\programdata\\anaconda3\\lib\\site-packages (1.26.4)\n",
      "Note: you may need to restart the kernel to use updated packages.\n"
     ]
    }
   ],
   "source": [
    "pip install numpy"
   ]
  },
  {
   "cell_type": "code",
   "execution_count": 4,
   "id": "b836ea2f-7b97-4468-b28d-a2ad61e860bd",
   "metadata": {},
   "outputs": [
    {
     "data": {
      "text/plain": [
       "<module 'numpy.version' from 'C:\\\\ProgramData\\\\anaconda3\\\\Lib\\\\site-packages\\\\numpy\\\\version.py'>"
      ]
     },
     "execution_count": 4,
     "metadata": {},
     "output_type": "execute_result"
    }
   ],
   "source": [
    "import numpy\n",
    "numpy.version"
   ]
  },
  {
   "cell_type": "code",
   "execution_count": 6,
   "id": "9c795d77-55ff-4b56-a384-1679ba48e488",
   "metadata": {},
   "outputs": [
    {
     "data": {
      "text/plain": [
       "<module 'numpy.version' from 'C:\\\\ProgramData\\\\anaconda3\\\\Lib\\\\site-packages\\\\numpy\\\\version.py'>"
      ]
     },
     "execution_count": 6,
     "metadata": {},
     "output_type": "execute_result"
    }
   ],
   "source": [
    "import numpy as np\n",
    "numpy.version"
   ]
  },
  {
   "cell_type": "code",
   "execution_count": 19,
   "id": "86e0e031-0e46-4d37-808d-6c85670dea24",
   "metadata": {},
   "outputs": [
    {
     "name": "stdout",
     "output_type": "stream",
     "text": [
      "[[ 2  4  8 16]]\n",
      "<class 'numpy.ndarray'>\n"
     ]
    },
    {
     "data": {
      "text/plain": [
       "4"
      ]
     },
     "execution_count": 19,
     "metadata": {},
     "output_type": "execute_result"
    }
   ],
   "source": [
    "my_arr=np.array([[2,4,8,16]],np.int32)\n",
    "print(my_arr)\n",
    "print(type(my_arr))\n",
    "my_arr[0,1]"
   ]
  },
  {
   "cell_type": "code",
   "execution_count": 20,
   "id": "62e150bc-182d-4c71-a886-256ff09907da",
   "metadata": {},
   "outputs": [
    {
     "data": {
      "text/plain": [
       "(1, 4)"
      ]
     },
     "execution_count": 20,
     "metadata": {},
     "output_type": "execute_result"
    }
   ],
   "source": [
    "my_arr.shape"
   ]
  },
  {
   "cell_type": "code",
   "execution_count": 21,
   "id": "8d69859c-65d7-4475-97c4-6c90a104612f",
   "metadata": {},
   "outputs": [
    {
     "data": {
      "text/plain": [
       "dtype('int32')"
      ]
     },
     "execution_count": 21,
     "metadata": {},
     "output_type": "execute_result"
    }
   ],
   "source": [
    "my_arr.dtype"
   ]
  },
  {
   "cell_type": "markdown",
   "id": "d8fcd0a6-1fca-4db3-9ea8-423cd09139a6",
   "metadata": {},
   "source": [
    "##Arrays creation :Conversion from pther python structure"
   ]
  },
  {
   "cell_type": "code",
   "execution_count": 22,
   "id": "cc6f6b8b-86ab-4c21-9a29-4afa80b6e86b",
   "metadata": {},
   "outputs": [
    {
     "name": "stdout",
     "output_type": "stream",
     "text": [
      "[[1 2 3]\n",
      " [5 8 5]\n",
      " [0 3 1]]\n"
     ]
    }
   ],
   "source": [
    "listarray=np.array([[1,2,3],[5,8,5],[0,3,1]])\n",
    "print(listarray)"
   ]
  },
  {
   "cell_type": "code",
   "execution_count": 23,
   "id": "f5087a7a-8460-4ed4-a0ce-bb0c46184a7e",
   "metadata": {},
   "outputs": [
    {
     "data": {
      "text/plain": [
       "dtype('int32')"
      ]
     },
     "execution_count": 23,
     "metadata": {},
     "output_type": "execute_result"
    }
   ],
   "source": [
    "listarray.dtype"
   ]
  },
  {
   "cell_type": "code",
   "execution_count": 24,
   "id": "01fe64a2-c848-47e3-a90a-a47d36ed962e",
   "metadata": {},
   "outputs": [
    {
     "data": {
      "text/plain": [
       "(3, 3)"
      ]
     },
     "execution_count": 24,
     "metadata": {},
     "output_type": "execute_result"
    }
   ],
   "source": [
    "listarray.shape"
   ]
  },
  {
   "cell_type": "code",
   "execution_count": 25,
   "id": "d37ce4e6-2531-4e05-b781-8b74c8b28175",
   "metadata": {},
   "outputs": [
    {
     "data": {
      "text/plain": [
       "9"
      ]
     },
     "execution_count": 25,
     "metadata": {},
     "output_type": "execute_result"
    }
   ],
   "source": [
    "listarray.size"
   ]
  },
  {
   "cell_type": "code",
   "execution_count": 26,
   "id": "8b3d898e-a518-4e7e-a4a8-414d7380ca41",
   "metadata": {},
   "outputs": [
    {
     "name": "stdout",
     "output_type": "stream",
     "text": [
      "[[0. 0. 0.]\n",
      " [0. 0. 0.]]\n"
     ]
    }
   ],
   "source": [
    "zeros=np.zeros([2,3])\n",
    "print(zeros)"
   ]
  },
  {
   "cell_type": "code",
   "execution_count": 33,
   "id": "39d95196-a51b-48b4-80a7-00d392d1cfbc",
   "metadata": {},
   "outputs": [
    {
     "name": "stdout",
     "output_type": "stream",
     "text": [
      "[ 0  1  2  3  4  5  6  7  8  9 10 11 12 13 14 15 16 17 18 19]\n"
     ]
    }
   ],
   "source": [
    "rng=np.arange(20)\n",
    "print(rng)"
   ]
  },
  {
   "cell_type": "code",
   "execution_count": 35,
   "id": "874642b4-6252-4be6-a6f1-4184bb420b64",
   "metadata": {},
   "outputs": [
    {
     "name": "stdout",
     "output_type": "stream",
     "text": [
      "[1.         1.36363636 1.72727273 2.09090909 2.45454545 2.81818182\n",
      " 3.18181818 3.54545455 3.90909091 4.27272727 4.63636364 5.        ]\n"
     ]
    }
   ],
   "source": [
    "lspace=np.linspace(1,5,12)\n",
    "print(lspace)"
   ]
  },
  {
   "cell_type": "code",
   "execution_count": 36,
   "id": "488e15ab-a8e5-426c-ab05-0449050a7540",
   "metadata": {},
   "outputs": [
    {
     "name": "stdout",
     "output_type": "stream",
     "text": [
      "[[1. 0. 0. ... 0. 0. 0.]\n",
      " [0. 1. 0. ... 0. 0. 0.]\n",
      " [0. 0. 1. ... 0. 0. 0.]\n",
      " ...\n",
      " [0. 0. 0. ... 1. 0. 0.]\n",
      " [0. 0. 0. ... 0. 1. 0.]\n",
      " [0. 0. 0. ... 0. 0. 1.]]\n"
     ]
    }
   ],
   "source": [
    "ide=np.identity(40)\n",
    "print(ide)"
   ]
  },
  {
   "cell_type": "code",
   "execution_count": null,
   "id": "f2d46fb1-e543-4301-937c-f0e931ae072e",
   "metadata": {},
   "outputs": [],
   "source": []
  }
 ],
 "metadata": {
  "kernelspec": {
   "display_name": "Python 3 (ipykernel)",
   "language": "python",
   "name": "python3"
  },
  "language_info": {
   "codemirror_mode": {
    "name": "ipython",
    "version": 3
   },
   "file_extension": ".py",
   "mimetype": "text/x-python",
   "name": "python",
   "nbconvert_exporter": "python",
   "pygments_lexer": "ipython3",
   "version": "3.12.4"
  }
 },
 "nbformat": 4,
 "nbformat_minor": 5
}
